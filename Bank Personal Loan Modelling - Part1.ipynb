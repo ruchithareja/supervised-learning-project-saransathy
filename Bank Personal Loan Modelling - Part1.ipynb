{
 "cells": [
  {
   "attachments": {},
   "cell_type": "markdown",
   "metadata": {},
   "source": [
    "# Bank Personal Loan Modelling\n",
    "\n",
    "This is part-1 of a case study exercise based on what we learned in Supervised Learning Residency Class in July 2018.\n",
    "\n",
    "### Case study:\n",
    "\n",
    "This case is about a bank (Thera Bank) which has a growing customer base. Majority of these customers are liability customers (depositors) with varying size of deposits. The number of customers who are also borrowers (asset customers) is quite small, and the bank is interested in expanding this base rapidly to bring in more loan business and in the process, earn more through the interest on loans. In particular, the management wants to explore ways of converting its liability customers to personal loan customers (while retaining them as depositors). A campaign that the bank ran last year for liability customers showed a healthy conversion rate of over 9% success. This has encouraged the retail marketing department to devise campaigns with better target marketing to increase the success ratio with minimal budget. The department wants to build a model that will help them identify the potential customers who have higher probability of purchasing the loan. This will increase the success ratio while at the same time reduce the cost of the campaign. The file Bank.xls contains data on 5000 customers. The data include customer demographic information (age, income, etc.), the customer's relationship with the bank (mortgage, securities account, etc.), and the customer response to the last personal loan campaign (Personal Loan). Among these 5000 customers, only 480 (= 9.6%) accepted the personal loan that was offered to them in the earlier campaign.\n",
    "\n",
    "### Steps Involved:\n",
    "\n",
    "1. Data pre-processing - Understand the data and treat missing values, outliers\n",
    "\n",
    "2. Understanding the attributes - Find relationship between different attributes (Independent variables) and choose carefully which all attributes have to be a part of the analysis and why \n",
    "\n",
    "3. Model the data using Logistic regression\n",
    "\n",
    "4. Find the accuracy of the model using confusion matrix\n",
    "\n",
    "5. Use K - NN model [Hint: Try different values of k] and compare the accuracy of this model with that of Logistic regression\n",
    "\n",
    "### Data & Objectives:\n",
    "\n",
    "File Bank_Personal_Loan_Modelling.xlsx is provided.\n",
    "\n",
    "#### Project Objectives:\n",
    "While designing a new campaign, can we model the previous campaign's customer behavior to analyze what combination of parameters make a customer more likely to accept a personal loan?\n",
    "\n",
    "There are several special products / facilities the bank offers like CD and security accounts, online services, credit cards, etc. Can we spot any association among these for finding cross-selling opportunities?\n",
    "\n",
    "#### Data Description:\n",
    "```\n",
    "ID                  Customer ID                                                                  UnsignedNumber\n",
    "Age                 Customer's age in years                                                      UnsignedNumber\n",
    "Experience          Years of professional experience                                             UnsignedNumber\n",
    "Income              Annual income of the customer                                                Float64\n",
    "ZIPCode \t        Home Address ZIP code                                                        Categorical\n",
    "Family              Family size of the customer                                                  UnsignedNumber\n",
    "CCAvg               Avg. spending on credit cards per month                                      Float64\n",
    "Education           Education Level. 1: Undergrad; 2: Graduate; 3: Advanced/Professional         Categorical\n",
    "Mortgage            Value of house mortgage if any.                                              Float64\n",
    "Personal Loan       Did this customer accept the personal loan offered in the last campaign?     Boolean(1,0)\n",
    "Securities Account  Does the customer have a securities account with the bank?                   Boolean(1,0)\n",
    "CD Account          Does the customer have a certificate of deposit (CD) account with the bank?  Boolean(1,0)\n",
    "Online              Does the customer use internet banking facilities?                           Boolean(1,0)\n",
    "CreditCard          Does the customer use a credit card issued by the bank?                      Boolean(1,0)\n",
    "```\n",
    "*Note: Data is hypothetical*"
   ]
  },
  {
   "cell_type": "markdown",
   "metadata": {},
   "source": [
    "# Import Required Libraries Here"
   ]
  },
  {
   "cell_type": "code",
   "execution_count": 740,
   "metadata": {},
   "outputs": [],
   "source": [
    "import numpy as np\n",
    "import pandas as pd\n",
    "import matplotlib.pyplot as plt\n",
    "import seaborn as sns\n",
    "import scipy.stats as stats\n",
    "from sklearn.model_selection import train_test_split\n",
    "from sklearn.linear_model import LogisticRegression\n",
    "import statsmodels.formula.api as smf\n",
    "from sklearn.metrics import f1_score\n",
    "from sklearn.metrics import accuracy_score\n",
    "from sklearn.metrics import confusion_matrix\n",
    "from sklearn.neighbors import KNeighborsClassifier\n",
    "from scipy.stats import zscore\n",
    "from sklearn.model_selection import cross_val_score\n",
    "from sklearn.preprocessing import LabelEncoder\n",
    "%matplotlib inline"
   ]
  },
  {
   "cell_type": "markdown",
   "metadata": {},
   "source": [
    "# Data Pre-Processing"
   ]
  },
  {
   "cell_type": "markdown",
   "metadata": {},
   "source": [
    "## Read Excel File"
   ]
  },
  {
   "cell_type": "code",
   "execution_count": 741,
   "metadata": {},
   "outputs": [
    {
     "data": {
      "text/html": [
       "<div>\n",
       "<style scoped>\n",
       "    .dataframe tbody tr th:only-of-type {\n",
       "        vertical-align: middle;\n",
       "    }\n",
       "\n",
       "    .dataframe tbody tr th {\n",
       "        vertical-align: top;\n",
       "    }\n",
       "\n",
       "    .dataframe thead th {\n",
       "        text-align: right;\n",
       "    }\n",
       "</style>\n",
       "<table border=\"1\" class=\"dataframe\">\n",
       "  <thead>\n",
       "    <tr style=\"text-align: right;\">\n",
       "      <th></th>\n",
       "      <th>Age</th>\n",
       "      <th>Experience</th>\n",
       "      <th>Income</th>\n",
       "      <th>ZIPCode</th>\n",
       "      <th>Family</th>\n",
       "      <th>CCAvg</th>\n",
       "      <th>Education</th>\n",
       "      <th>Mortgage</th>\n",
       "      <th>PersonalLoan</th>\n",
       "      <th>SecuritiesAccount</th>\n",
       "      <th>CDAccount</th>\n",
       "      <th>NetBanking</th>\n",
       "      <th>CreditCard</th>\n",
       "    </tr>\n",
       "    <tr>\n",
       "      <th>ID</th>\n",
       "      <th></th>\n",
       "      <th></th>\n",
       "      <th></th>\n",
       "      <th></th>\n",
       "      <th></th>\n",
       "      <th></th>\n",
       "      <th></th>\n",
       "      <th></th>\n",
       "      <th></th>\n",
       "      <th></th>\n",
       "      <th></th>\n",
       "      <th></th>\n",
       "      <th></th>\n",
       "    </tr>\n",
       "  </thead>\n",
       "  <tbody>\n",
       "    <tr>\n",
       "      <th>1</th>\n",
       "      <td>25</td>\n",
       "      <td>1</td>\n",
       "      <td>49</td>\n",
       "      <td>91107</td>\n",
       "      <td>4.0</td>\n",
       "      <td>1.6</td>\n",
       "      <td>1</td>\n",
       "      <td>0</td>\n",
       "      <td>0</td>\n",
       "      <td>1</td>\n",
       "      <td>0</td>\n",
       "      <td>0</td>\n",
       "      <td>0</td>\n",
       "    </tr>\n",
       "    <tr>\n",
       "      <th>2</th>\n",
       "      <td>45</td>\n",
       "      <td>19</td>\n",
       "      <td>34</td>\n",
       "      <td>90089</td>\n",
       "      <td>3.0</td>\n",
       "      <td>1.5</td>\n",
       "      <td>1</td>\n",
       "      <td>0</td>\n",
       "      <td>0</td>\n",
       "      <td>1</td>\n",
       "      <td>0</td>\n",
       "      <td>0</td>\n",
       "      <td>0</td>\n",
       "    </tr>\n",
       "    <tr>\n",
       "      <th>3</th>\n",
       "      <td>39</td>\n",
       "      <td>15</td>\n",
       "      <td>11</td>\n",
       "      <td>94720</td>\n",
       "      <td>1.0</td>\n",
       "      <td>1.0</td>\n",
       "      <td>1</td>\n",
       "      <td>0</td>\n",
       "      <td>0</td>\n",
       "      <td>0</td>\n",
       "      <td>0</td>\n",
       "      <td>0</td>\n",
       "      <td>0</td>\n",
       "    </tr>\n",
       "    <tr>\n",
       "      <th>4</th>\n",
       "      <td>35</td>\n",
       "      <td>9</td>\n",
       "      <td>100</td>\n",
       "      <td>94112</td>\n",
       "      <td>1.0</td>\n",
       "      <td>2.7</td>\n",
       "      <td>2</td>\n",
       "      <td>0</td>\n",
       "      <td>0</td>\n",
       "      <td>0</td>\n",
       "      <td>0</td>\n",
       "      <td>0</td>\n",
       "      <td>0</td>\n",
       "    </tr>\n",
       "    <tr>\n",
       "      <th>5</th>\n",
       "      <td>35</td>\n",
       "      <td>8</td>\n",
       "      <td>45</td>\n",
       "      <td>91330</td>\n",
       "      <td>4.0</td>\n",
       "      <td>1.0</td>\n",
       "      <td>2</td>\n",
       "      <td>0</td>\n",
       "      <td>0</td>\n",
       "      <td>0</td>\n",
       "      <td>0</td>\n",
       "      <td>0</td>\n",
       "      <td>1</td>\n",
       "    </tr>\n",
       "  </tbody>\n",
       "</table>\n",
       "</div>"
      ],
      "text/plain": [
       "    Age  Experience  Income ZIPCode  Family  CCAvg  Education  Mortgage  \\\n",
       "ID                                                                        \n",
       "1    25           1      49   91107     4.0    1.6          1         0   \n",
       "2    45          19      34   90089     3.0    1.5          1         0   \n",
       "3    39          15      11   94720     1.0    1.0          1         0   \n",
       "4    35           9     100   94112     1.0    2.7          2         0   \n",
       "5    35           8      45   91330     4.0    1.0          2         0   \n",
       "\n",
       "    PersonalLoan  SecuritiesAccount  CDAccount  NetBanking  CreditCard  \n",
       "ID                                                                      \n",
       "1              0                  1          0           0           0  \n",
       "2              0                  1          0           0           0  \n",
       "3              0                  0          0           0           0  \n",
       "4              0                  0          0           0           0  \n",
       "5              0                  0          0           0           1  "
      ]
     },
     "execution_count": 741,
     "metadata": {},
     "output_type": "execute_result"
    }
   ],
   "source": [
    "# Use read_excel method of Pandas Dataframe to read the data from the spreadsheet\n",
    "# Note that in the SpreadSheet, there are two sheets:\n",
    "# 1. README\n",
    "# 2. Bank_Personal_Loan_Modelling Sheet. This is the sheet that has the data, hence we need to read only this sheet\n",
    "# Kindly note for some reason the Family Members data type can't be changed to Int while reading, hence using float\n",
    "\n",
    "bpl_data = pd.read_excel(\"Bank_Personal_Loan_Modelling.xlsx\", \n",
    "                         sheet_name='Bank_Personal_Loan_Modelling', \n",
    "                         index_col=0,\n",
    "                         dtype={'Age (in years)':np.int8,'Experience (in years)':np.int8, \n",
    "                                'Income (in K/month)':np.int32, 'ZIP Code':'category', 'Family members':np.float16,\n",
    "                                'CCAvg':np.float32, 'Education':np.int8, 'Mortgage': np.int32, \n",
    "                                'Personal Loan':np.int8, 'Securities Account':np.int8, \n",
    "                                'CD Account':np.int8, 'Online':np.int8, 'CreditCard':np.int8},\n",
    "                         names=['Age','Experience','Income','ZIPCode','Family','CCAvg',\n",
    "                                  'Education','Mortgage','PersonalLoan','SecuritiesAccount','CDAccount',\n",
    "                                  'NetBanking','CreditCard'])\n",
    "bpl_data.head()"
   ]
  },
  {
   "cell_type": "markdown",
   "metadata": {},
   "source": [
    "## Verify the Data Types\n",
    "\n",
    "*Kindly Note that categorical data types are already labelled numerically, hence imported that with numeric data type*  \n",
    "*ZIPCode is the only one that is imported as categorical*"
   ]
  },
  {
   "cell_type": "code",
   "execution_count": 742,
   "metadata": {},
   "outputs": [
    {
     "data": {
      "text/plain": [
       "Age                      int8\n",
       "Experience               int8\n",
       "Income                  int32\n",
       "ZIPCode              category\n",
       "Family                float16\n",
       "CCAvg                 float32\n",
       "Education                int8\n",
       "Mortgage                int32\n",
       "PersonalLoan             int8\n",
       "SecuritiesAccount        int8\n",
       "CDAccount                int8\n",
       "NetBanking               int8\n",
       "CreditCard               int8\n",
       "dtype: object"
      ]
     },
     "execution_count": 742,
     "metadata": {},
     "output_type": "execute_result"
    }
   ],
   "source": [
    "# Verify the data types before we proceed further\n",
    "bpl_data.dtypes"
   ]
  },
  {
   "cell_type": "markdown",
   "metadata": {},
   "source": [
    "## Find the Missing Values"
   ]
  },
  {
   "cell_type": "code",
   "execution_count": 743,
   "metadata": {},
   "outputs": [
    {
     "data": {
      "text/plain": [
       "True"
      ]
     },
     "execution_count": 743,
     "metadata": {},
     "output_type": "execute_result"
    }
   ],
   "source": [
    "# Is there any Missing Values ?\n",
    "bpl_data.isnull().values.any()"
   ]
  },
  {
   "cell_type": "code",
   "execution_count": 744,
   "metadata": {},
   "outputs": [
    {
     "data": {
      "text/html": [
       "<div>\n",
       "<style scoped>\n",
       "    .dataframe tbody tr th:only-of-type {\n",
       "        vertical-align: middle;\n",
       "    }\n",
       "\n",
       "    .dataframe tbody tr th {\n",
       "        vertical-align: top;\n",
       "    }\n",
       "\n",
       "    .dataframe thead th {\n",
       "        text-align: right;\n",
       "    }\n",
       "</style>\n",
       "<table border=\"1\" class=\"dataframe\">\n",
       "  <thead>\n",
       "    <tr style=\"text-align: right;\">\n",
       "      <th></th>\n",
       "      <th>Age</th>\n",
       "      <th>Experience</th>\n",
       "      <th>Income</th>\n",
       "      <th>ZIPCode</th>\n",
       "      <th>Family</th>\n",
       "      <th>CCAvg</th>\n",
       "      <th>Education</th>\n",
       "      <th>Mortgage</th>\n",
       "      <th>PersonalLoan</th>\n",
       "      <th>SecuritiesAccount</th>\n",
       "      <th>CDAccount</th>\n",
       "      <th>NetBanking</th>\n",
       "      <th>CreditCard</th>\n",
       "    </tr>\n",
       "    <tr>\n",
       "      <th>ID</th>\n",
       "      <th></th>\n",
       "      <th></th>\n",
       "      <th></th>\n",
       "      <th></th>\n",
       "      <th></th>\n",
       "      <th></th>\n",
       "      <th></th>\n",
       "      <th></th>\n",
       "      <th></th>\n",
       "      <th></th>\n",
       "      <th></th>\n",
       "      <th></th>\n",
       "      <th></th>\n",
       "    </tr>\n",
       "  </thead>\n",
       "  <tbody>\n",
       "    <tr>\n",
       "      <th>21</th>\n",
       "      <td>56</td>\n",
       "      <td>31</td>\n",
       "      <td>25</td>\n",
       "      <td>94015</td>\n",
       "      <td>NaN</td>\n",
       "      <td>0.9</td>\n",
       "      <td>2</td>\n",
       "      <td>111</td>\n",
       "      <td>0</td>\n",
       "      <td>0</td>\n",
       "      <td>0</td>\n",
       "      <td>1</td>\n",
       "      <td>0</td>\n",
       "    </tr>\n",
       "    <tr>\n",
       "      <th>59</th>\n",
       "      <td>28</td>\n",
       "      <td>2</td>\n",
       "      <td>93</td>\n",
       "      <td>94065</td>\n",
       "      <td>NaN</td>\n",
       "      <td>0.2</td>\n",
       "      <td>1</td>\n",
       "      <td>0</td>\n",
       "      <td>0</td>\n",
       "      <td>0</td>\n",
       "      <td>0</td>\n",
       "      <td>0</td>\n",
       "      <td>0</td>\n",
       "    </tr>\n",
       "    <tr>\n",
       "      <th>99</th>\n",
       "      <td>49</td>\n",
       "      <td>23</td>\n",
       "      <td>94</td>\n",
       "      <td>92374</td>\n",
       "      <td>NaN</td>\n",
       "      <td>0.3</td>\n",
       "      <td>1</td>\n",
       "      <td>0</td>\n",
       "      <td>0</td>\n",
       "      <td>0</td>\n",
       "      <td>0</td>\n",
       "      <td>1</td>\n",
       "      <td>0</td>\n",
       "    </tr>\n",
       "    <tr>\n",
       "      <th>162</th>\n",
       "      <td>61</td>\n",
       "      <td>35</td>\n",
       "      <td>80</td>\n",
       "      <td>95053</td>\n",
       "      <td>NaN</td>\n",
       "      <td>2.8</td>\n",
       "      <td>1</td>\n",
       "      <td>0</td>\n",
       "      <td>0</td>\n",
       "      <td>0</td>\n",
       "      <td>0</td>\n",
       "      <td>1</td>\n",
       "      <td>0</td>\n",
       "    </tr>\n",
       "    <tr>\n",
       "      <th>236</th>\n",
       "      <td>38</td>\n",
       "      <td>8</td>\n",
       "      <td>71</td>\n",
       "      <td>94720</td>\n",
       "      <td>NaN</td>\n",
       "      <td>1.8</td>\n",
       "      <td>3</td>\n",
       "      <td>0</td>\n",
       "      <td>0</td>\n",
       "      <td>0</td>\n",
       "      <td>0</td>\n",
       "      <td>1</td>\n",
       "      <td>0</td>\n",
       "    </tr>\n",
       "    <tr>\n",
       "      <th>290</th>\n",
       "      <td>42</td>\n",
       "      <td>15</td>\n",
       "      <td>24</td>\n",
       "      <td>92121</td>\n",
       "      <td>NaN</td>\n",
       "      <td>1.0</td>\n",
       "      <td>2</td>\n",
       "      <td>0</td>\n",
       "      <td>0</td>\n",
       "      <td>0</td>\n",
       "      <td>0</td>\n",
       "      <td>1</td>\n",
       "      <td>1</td>\n",
       "    </tr>\n",
       "    <tr>\n",
       "      <th>488</th>\n",
       "      <td>39</td>\n",
       "      <td>13</td>\n",
       "      <td>88</td>\n",
       "      <td>94117</td>\n",
       "      <td>NaN</td>\n",
       "      <td>1.4</td>\n",
       "      <td>2</td>\n",
       "      <td>0</td>\n",
       "      <td>0</td>\n",
       "      <td>0</td>\n",
       "      <td>0</td>\n",
       "      <td>1</td>\n",
       "      <td>1</td>\n",
       "    </tr>\n",
       "    <tr>\n",
       "      <th>722</th>\n",
       "      <td>49</td>\n",
       "      <td>24</td>\n",
       "      <td>39</td>\n",
       "      <td>92717</td>\n",
       "      <td>NaN</td>\n",
       "      <td>1.4</td>\n",
       "      <td>3</td>\n",
       "      <td>0</td>\n",
       "      <td>0</td>\n",
       "      <td>0</td>\n",
       "      <td>0</td>\n",
       "      <td>1</td>\n",
       "      <td>0</td>\n",
       "    </tr>\n",
       "    <tr>\n",
       "      <th>1461</th>\n",
       "      <td>40</td>\n",
       "      <td>16</td>\n",
       "      <td>85</td>\n",
       "      <td>92677</td>\n",
       "      <td>NaN</td>\n",
       "      <td>0.2</td>\n",
       "      <td>3</td>\n",
       "      <td>0</td>\n",
       "      <td>0</td>\n",
       "      <td>0</td>\n",
       "      <td>0</td>\n",
       "      <td>1</td>\n",
       "      <td>1</td>\n",
       "    </tr>\n",
       "    <tr>\n",
       "      <th>1462</th>\n",
       "      <td>54</td>\n",
       "      <td>28</td>\n",
       "      <td>48</td>\n",
       "      <td>93022</td>\n",
       "      <td>NaN</td>\n",
       "      <td>0.2</td>\n",
       "      <td>1</td>\n",
       "      <td>0</td>\n",
       "      <td>0</td>\n",
       "      <td>0</td>\n",
       "      <td>0</td>\n",
       "      <td>1</td>\n",
       "      <td>0</td>\n",
       "    </tr>\n",
       "    <tr>\n",
       "      <th>2400</th>\n",
       "      <td>62</td>\n",
       "      <td>36</td>\n",
       "      <td>41</td>\n",
       "      <td>90245</td>\n",
       "      <td>NaN</td>\n",
       "      <td>1.0</td>\n",
       "      <td>3</td>\n",
       "      <td>154</td>\n",
       "      <td>0</td>\n",
       "      <td>1</td>\n",
       "      <td>0</td>\n",
       "      <td>1</td>\n",
       "      <td>0</td>\n",
       "    </tr>\n",
       "    <tr>\n",
       "      <th>2833</th>\n",
       "      <td>45</td>\n",
       "      <td>21</td>\n",
       "      <td>133</td>\n",
       "      <td>92056</td>\n",
       "      <td>NaN</td>\n",
       "      <td>5.7</td>\n",
       "      <td>3</td>\n",
       "      <td>0</td>\n",
       "      <td>1</td>\n",
       "      <td>0</td>\n",
       "      <td>1</td>\n",
       "      <td>1</td>\n",
       "      <td>1</td>\n",
       "    </tr>\n",
       "    <tr>\n",
       "      <th>3702</th>\n",
       "      <td>58</td>\n",
       "      <td>33</td>\n",
       "      <td>95</td>\n",
       "      <td>90503</td>\n",
       "      <td>NaN</td>\n",
       "      <td>2.6</td>\n",
       "      <td>1</td>\n",
       "      <td>0</td>\n",
       "      <td>0</td>\n",
       "      <td>0</td>\n",
       "      <td>0</td>\n",
       "      <td>1</td>\n",
       "      <td>0</td>\n",
       "    </tr>\n",
       "    <tr>\n",
       "      <th>4136</th>\n",
       "      <td>48</td>\n",
       "      <td>23</td>\n",
       "      <td>168</td>\n",
       "      <td>95929</td>\n",
       "      <td>NaN</td>\n",
       "      <td>2.8</td>\n",
       "      <td>1</td>\n",
       "      <td>308</td>\n",
       "      <td>0</td>\n",
       "      <td>0</td>\n",
       "      <td>0</td>\n",
       "      <td>1</td>\n",
       "      <td>0</td>\n",
       "    </tr>\n",
       "    <tr>\n",
       "      <th>4139</th>\n",
       "      <td>47</td>\n",
       "      <td>22</td>\n",
       "      <td>114</td>\n",
       "      <td>95819</td>\n",
       "      <td>NaN</td>\n",
       "      <td>0.6</td>\n",
       "      <td>1</td>\n",
       "      <td>0</td>\n",
       "      <td>0</td>\n",
       "      <td>1</td>\n",
       "      <td>1</td>\n",
       "      <td>1</td>\n",
       "      <td>1</td>\n",
       "    </tr>\n",
       "    <tr>\n",
       "      <th>4403</th>\n",
       "      <td>55</td>\n",
       "      <td>25</td>\n",
       "      <td>52</td>\n",
       "      <td>90095</td>\n",
       "      <td>NaN</td>\n",
       "      <td>1.4</td>\n",
       "      <td>3</td>\n",
       "      <td>207</td>\n",
       "      <td>0</td>\n",
       "      <td>1</td>\n",
       "      <td>0</td>\n",
       "      <td>0</td>\n",
       "      <td>0</td>\n",
       "    </tr>\n",
       "    <tr>\n",
       "      <th>4404</th>\n",
       "      <td>50</td>\n",
       "      <td>24</td>\n",
       "      <td>112</td>\n",
       "      <td>92064</td>\n",
       "      <td>NaN</td>\n",
       "      <td>0.0</td>\n",
       "      <td>1</td>\n",
       "      <td>0</td>\n",
       "      <td>0</td>\n",
       "      <td>0</td>\n",
       "      <td>0</td>\n",
       "      <td>0</td>\n",
       "      <td>0</td>\n",
       "    </tr>\n",
       "    <tr>\n",
       "      <th>4764</th>\n",
       "      <td>51</td>\n",
       "      <td>25</td>\n",
       "      <td>173</td>\n",
       "      <td>95051</td>\n",
       "      <td>NaN</td>\n",
       "      <td>0.5</td>\n",
       "      <td>2</td>\n",
       "      <td>0</td>\n",
       "      <td>1</td>\n",
       "      <td>0</td>\n",
       "      <td>0</td>\n",
       "      <td>1</td>\n",
       "      <td>0</td>\n",
       "    </tr>\n",
       "  </tbody>\n",
       "</table>\n",
       "</div>"
      ],
      "text/plain": [
       "      Age  Experience  Income ZIPCode  Family  CCAvg  Education  Mortgage  \\\n",
       "ID                                                                          \n",
       "21     56          31      25   94015     NaN    0.9          2       111   \n",
       "59     28           2      93   94065     NaN    0.2          1         0   \n",
       "99     49          23      94   92374     NaN    0.3          1         0   \n",
       "162    61          35      80   95053     NaN    2.8          1         0   \n",
       "236    38           8      71   94720     NaN    1.8          3         0   \n",
       "290    42          15      24   92121     NaN    1.0          2         0   \n",
       "488    39          13      88   94117     NaN    1.4          2         0   \n",
       "722    49          24      39   92717     NaN    1.4          3         0   \n",
       "1461   40          16      85   92677     NaN    0.2          3         0   \n",
       "1462   54          28      48   93022     NaN    0.2          1         0   \n",
       "2400   62          36      41   90245     NaN    1.0          3       154   \n",
       "2833   45          21     133   92056     NaN    5.7          3         0   \n",
       "3702   58          33      95   90503     NaN    2.6          1         0   \n",
       "4136   48          23     168   95929     NaN    2.8          1       308   \n",
       "4139   47          22     114   95819     NaN    0.6          1         0   \n",
       "4403   55          25      52   90095     NaN    1.4          3       207   \n",
       "4404   50          24     112   92064     NaN    0.0          1         0   \n",
       "4764   51          25     173   95051     NaN    0.5          2         0   \n",
       "\n",
       "      PersonalLoan  SecuritiesAccount  CDAccount  NetBanking  CreditCard  \n",
       "ID                                                                        \n",
       "21               0                  0          0           1           0  \n",
       "59               0                  0          0           0           0  \n",
       "99               0                  0          0           1           0  \n",
       "162              0                  0          0           1           0  \n",
       "236              0                  0          0           1           0  \n",
       "290              0                  0          0           1           1  \n",
       "488              0                  0          0           1           1  \n",
       "722              0                  0          0           1           0  \n",
       "1461             0                  0          0           1           1  \n",
       "1462             0                  0          0           1           0  \n",
       "2400             0                  1          0           1           0  \n",
       "2833             1                  0          1           1           1  \n",
       "3702             0                  0          0           1           0  \n",
       "4136             0                  0          0           1           0  \n",
       "4139             0                  1          1           1           1  \n",
       "4403             0                  1          0           0           0  \n",
       "4404             0                  0          0           0           0  \n",
       "4764             1                  0          0           1           0  "
      ]
     },
     "execution_count": 744,
     "metadata": {},
     "output_type": "execute_result"
    }
   ],
   "source": [
    "# Print the rows that has missing values\n",
    "bpl_data[bpl_data.isnull().any(axis=1)]\n",
    "\n",
    "# Observations\n",
    "# Only Family Members Column has missing values and 18 rows has missing values"
   ]
  },
  {
   "cell_type": "markdown",
   "metadata": {},
   "source": [
    "## Fill the missing values\n",
    "\n",
    "*Kindly note only Family column has missing values*  \n",
    "*The total number of rows that contains missing values is 18*\n",
    "  \n",
    "Identify the Mean, Median of the Family Column   \n",
    "Fill the missing values with Mean or Median based on which ever is appropriate  "
   ]
  },
  {
   "cell_type": "code",
   "execution_count": 745,
   "metadata": {},
   "outputs": [
    {
     "data": {
      "text/html": [
       "<div>\n",
       "<style scoped>\n",
       "    .dataframe tbody tr th:only-of-type {\n",
       "        vertical-align: middle;\n",
       "    }\n",
       "\n",
       "    .dataframe tbody tr th {\n",
       "        vertical-align: top;\n",
       "    }\n",
       "\n",
       "    .dataframe thead th {\n",
       "        text-align: right;\n",
       "    }\n",
       "</style>\n",
       "<table border=\"1\" class=\"dataframe\">\n",
       "  <thead>\n",
       "    <tr style=\"text-align: right;\">\n",
       "      <th></th>\n",
       "      <th>count</th>\n",
       "      <th>mean</th>\n",
       "      <th>std</th>\n",
       "      <th>min</th>\n",
       "      <th>25%</th>\n",
       "      <th>50%</th>\n",
       "      <th>75%</th>\n",
       "      <th>max</th>\n",
       "    </tr>\n",
       "  </thead>\n",
       "  <tbody>\n",
       "    <tr>\n",
       "      <th>Age</th>\n",
       "      <td>5000.0</td>\n",
       "      <td>45.338400</td>\n",
       "      <td>11.463166</td>\n",
       "      <td>23.0</td>\n",
       "      <td>35.0</td>\n",
       "      <td>45.0</td>\n",
       "      <td>55.0</td>\n",
       "      <td>67.0</td>\n",
       "    </tr>\n",
       "    <tr>\n",
       "      <th>Experience</th>\n",
       "      <td>5000.0</td>\n",
       "      <td>20.104600</td>\n",
       "      <td>11.467954</td>\n",
       "      <td>-3.0</td>\n",
       "      <td>10.0</td>\n",
       "      <td>20.0</td>\n",
       "      <td>30.0</td>\n",
       "      <td>43.0</td>\n",
       "    </tr>\n",
       "    <tr>\n",
       "      <th>Income</th>\n",
       "      <td>5000.0</td>\n",
       "      <td>73.774200</td>\n",
       "      <td>46.033729</td>\n",
       "      <td>8.0</td>\n",
       "      <td>39.0</td>\n",
       "      <td>64.0</td>\n",
       "      <td>98.0</td>\n",
       "      <td>224.0</td>\n",
       "    </tr>\n",
       "    <tr>\n",
       "      <th>Family</th>\n",
       "      <td>4982.0</td>\n",
       "      <td>2.396484</td>\n",
       "      <td>1.146484</td>\n",
       "      <td>1.0</td>\n",
       "      <td>1.0</td>\n",
       "      <td>2.0</td>\n",
       "      <td>3.0</td>\n",
       "      <td>4.0</td>\n",
       "    </tr>\n",
       "    <tr>\n",
       "      <th>CCAvg</th>\n",
       "      <td>5000.0</td>\n",
       "      <td>1.937932</td>\n",
       "      <td>1.747658</td>\n",
       "      <td>0.0</td>\n",
       "      <td>0.7</td>\n",
       "      <td>1.5</td>\n",
       "      <td>2.5</td>\n",
       "      <td>10.0</td>\n",
       "    </tr>\n",
       "    <tr>\n",
       "      <th>Education</th>\n",
       "      <td>5000.0</td>\n",
       "      <td>1.881000</td>\n",
       "      <td>0.839869</td>\n",
       "      <td>1.0</td>\n",
       "      <td>1.0</td>\n",
       "      <td>2.0</td>\n",
       "      <td>3.0</td>\n",
       "      <td>3.0</td>\n",
       "    </tr>\n",
       "    <tr>\n",
       "      <th>Mortgage</th>\n",
       "      <td>5000.0</td>\n",
       "      <td>56.498800</td>\n",
       "      <td>101.713802</td>\n",
       "      <td>0.0</td>\n",
       "      <td>0.0</td>\n",
       "      <td>0.0</td>\n",
       "      <td>101.0</td>\n",
       "      <td>635.0</td>\n",
       "    </tr>\n",
       "    <tr>\n",
       "      <th>PersonalLoan</th>\n",
       "      <td>5000.0</td>\n",
       "      <td>0.096000</td>\n",
       "      <td>0.294621</td>\n",
       "      <td>0.0</td>\n",
       "      <td>0.0</td>\n",
       "      <td>0.0</td>\n",
       "      <td>0.0</td>\n",
       "      <td>1.0</td>\n",
       "    </tr>\n",
       "    <tr>\n",
       "      <th>SecuritiesAccount</th>\n",
       "      <td>5000.0</td>\n",
       "      <td>0.104400</td>\n",
       "      <td>0.305809</td>\n",
       "      <td>0.0</td>\n",
       "      <td>0.0</td>\n",
       "      <td>0.0</td>\n",
       "      <td>0.0</td>\n",
       "      <td>1.0</td>\n",
       "    </tr>\n",
       "    <tr>\n",
       "      <th>CDAccount</th>\n",
       "      <td>5000.0</td>\n",
       "      <td>0.060400</td>\n",
       "      <td>0.238250</td>\n",
       "      <td>0.0</td>\n",
       "      <td>0.0</td>\n",
       "      <td>0.0</td>\n",
       "      <td>0.0</td>\n",
       "      <td>1.0</td>\n",
       "    </tr>\n",
       "    <tr>\n",
       "      <th>NetBanking</th>\n",
       "      <td>5000.0</td>\n",
       "      <td>0.596800</td>\n",
       "      <td>0.490589</td>\n",
       "      <td>0.0</td>\n",
       "      <td>0.0</td>\n",
       "      <td>1.0</td>\n",
       "      <td>1.0</td>\n",
       "      <td>1.0</td>\n",
       "    </tr>\n",
       "    <tr>\n",
       "      <th>CreditCard</th>\n",
       "      <td>5000.0</td>\n",
       "      <td>0.294000</td>\n",
       "      <td>0.455637</td>\n",
       "      <td>0.0</td>\n",
       "      <td>0.0</td>\n",
       "      <td>0.0</td>\n",
       "      <td>1.0</td>\n",
       "      <td>1.0</td>\n",
       "    </tr>\n",
       "  </tbody>\n",
       "</table>\n",
       "</div>"
      ],
      "text/plain": [
       "                    count       mean         std   min   25%   50%    75%  \\\n",
       "Age                5000.0  45.338400   11.463166  23.0  35.0  45.0   55.0   \n",
       "Experience         5000.0  20.104600   11.467954  -3.0  10.0  20.0   30.0   \n",
       "Income             5000.0  73.774200   46.033729   8.0  39.0  64.0   98.0   \n",
       "Family             4982.0   2.396484    1.146484   1.0   1.0   2.0    3.0   \n",
       "CCAvg              5000.0   1.937932    1.747658   0.0   0.7   1.5    2.5   \n",
       "Education          5000.0   1.881000    0.839869   1.0   1.0   2.0    3.0   \n",
       "Mortgage           5000.0  56.498800  101.713802   0.0   0.0   0.0  101.0   \n",
       "PersonalLoan       5000.0   0.096000    0.294621   0.0   0.0   0.0    0.0   \n",
       "SecuritiesAccount  5000.0   0.104400    0.305809   0.0   0.0   0.0    0.0   \n",
       "CDAccount          5000.0   0.060400    0.238250   0.0   0.0   0.0    0.0   \n",
       "NetBanking         5000.0   0.596800    0.490589   0.0   0.0   1.0    1.0   \n",
       "CreditCard         5000.0   0.294000    0.455637   0.0   0.0   0.0    1.0   \n",
       "\n",
       "                     max  \n",
       "Age                 67.0  \n",
       "Experience          43.0  \n",
       "Income             224.0  \n",
       "Family               4.0  \n",
       "CCAvg               10.0  \n",
       "Education            3.0  \n",
       "Mortgage           635.0  \n",
       "PersonalLoan         1.0  \n",
       "SecuritiesAccount    1.0  \n",
       "CDAccount            1.0  \n",
       "NetBanking           1.0  \n",
       "CreditCard           1.0  "
      ]
     },
     "execution_count": 745,
     "metadata": {},
     "output_type": "execute_result"
    }
   ],
   "source": [
    "# Describe the statistics in the dataframe\n",
    "stats_desc = bpl_data.describe().transpose()\n",
    "stats_desc"
   ]
  },
  {
   "cell_type": "code",
   "execution_count": 746,
   "metadata": {},
   "outputs": [
    {
     "data": {
      "text/plain": [
       "False"
      ]
     },
     "execution_count": 746,
     "metadata": {},
     "output_type": "execute_result"
    }
   ],
   "source": [
    "# Number of Family Members will be always a whole number and it ranges from 1 to 4 in the dataset\n",
    "# Fill the missing values in Family Members attribute with the median of the overall statistics. \n",
    "# Median will be good here as the number of possibilities is small\n",
    "bpl_data['Family'].fillna((bpl_data['Family'].median()),inplace=True)\n",
    "# Check whether there is any more missing values\n",
    "bpl_data.isnull().values.any()"
   ]
  },
  {
   "cell_type": "code",
   "execution_count": 747,
   "metadata": {},
   "outputs": [
    {
     "data": {
      "text/plain": [
       "Age                     49\n",
       "Experience              24\n",
       "Income                  39\n",
       "ZIPCode              92717\n",
       "Family                   2\n",
       "CCAvg                  1.4\n",
       "Education                3\n",
       "Mortgage                 0\n",
       "PersonalLoan             0\n",
       "SecuritiesAccount        0\n",
       "CDAccount                0\n",
       "NetBanking               1\n",
       "CreditCard               0\n",
       "Name: 722, dtype: object"
      ]
     },
     "execution_count": 747,
     "metadata": {},
     "output_type": "execute_result"
    }
   ],
   "source": [
    "# Pick randomly any missing value row and check whether the median value is populated \n",
    "bpl_data.loc[722]"
   ]
  },
  {
   "cell_type": "markdown",
   "metadata": {},
   "source": [
    "## Understand the attributes of consumers who took Personal Loan"
   ]
  },
  {
   "cell_type": "code",
   "execution_count": 748,
   "metadata": {},
   "outputs": [
    {
     "data": {
      "text/html": [
       "<div>\n",
       "<style scoped>\n",
       "    .dataframe tbody tr th:only-of-type {\n",
       "        vertical-align: middle;\n",
       "    }\n",
       "\n",
       "    .dataframe tbody tr th {\n",
       "        vertical-align: top;\n",
       "    }\n",
       "\n",
       "    .dataframe thead th {\n",
       "        text-align: right;\n",
       "    }\n",
       "</style>\n",
       "<table border=\"1\" class=\"dataframe\">\n",
       "  <thead>\n",
       "    <tr style=\"text-align: right;\">\n",
       "      <th></th>\n",
       "      <th>count</th>\n",
       "      <th>mean</th>\n",
       "      <th>std</th>\n",
       "      <th>min</th>\n",
       "      <th>25%</th>\n",
       "      <th>50%</th>\n",
       "      <th>75%</th>\n",
       "      <th>max</th>\n",
       "    </tr>\n",
       "  </thead>\n",
       "  <tbody>\n",
       "    <tr>\n",
       "      <th>Age</th>\n",
       "      <td>480.0</td>\n",
       "      <td>45.066667</td>\n",
       "      <td>11.590964</td>\n",
       "      <td>26.0</td>\n",
       "      <td>35.0</td>\n",
       "      <td>45.0</td>\n",
       "      <td>55.0000</td>\n",
       "      <td>65.0</td>\n",
       "    </tr>\n",
       "    <tr>\n",
       "      <th>Experience</th>\n",
       "      <td>480.0</td>\n",
       "      <td>19.843750</td>\n",
       "      <td>11.582443</td>\n",
       "      <td>0.0</td>\n",
       "      <td>9.0</td>\n",
       "      <td>20.0</td>\n",
       "      <td>30.0000</td>\n",
       "      <td>41.0</td>\n",
       "    </tr>\n",
       "    <tr>\n",
       "      <th>Income</th>\n",
       "      <td>480.0</td>\n",
       "      <td>144.745833</td>\n",
       "      <td>31.584429</td>\n",
       "      <td>60.0</td>\n",
       "      <td>122.0</td>\n",
       "      <td>142.5</td>\n",
       "      <td>172.0000</td>\n",
       "      <td>203.0</td>\n",
       "    </tr>\n",
       "    <tr>\n",
       "      <th>Family</th>\n",
       "      <td>480.0</td>\n",
       "      <td>2.611328</td>\n",
       "      <td>1.112305</td>\n",
       "      <td>1.0</td>\n",
       "      <td>2.0</td>\n",
       "      <td>3.0</td>\n",
       "      <td>4.0000</td>\n",
       "      <td>4.0</td>\n",
       "    </tr>\n",
       "    <tr>\n",
       "      <th>CCAvg</th>\n",
       "      <td>480.0</td>\n",
       "      <td>3.905352</td>\n",
       "      <td>2.097681</td>\n",
       "      <td>0.0</td>\n",
       "      <td>2.6</td>\n",
       "      <td>3.8</td>\n",
       "      <td>5.3475</td>\n",
       "      <td>10.0</td>\n",
       "    </tr>\n",
       "    <tr>\n",
       "      <th>Education</th>\n",
       "      <td>480.0</td>\n",
       "      <td>2.233333</td>\n",
       "      <td>0.753373</td>\n",
       "      <td>1.0</td>\n",
       "      <td>2.0</td>\n",
       "      <td>2.0</td>\n",
       "      <td>3.0000</td>\n",
       "      <td>3.0</td>\n",
       "    </tr>\n",
       "    <tr>\n",
       "      <th>Mortgage</th>\n",
       "      <td>480.0</td>\n",
       "      <td>100.845833</td>\n",
       "      <td>160.847862</td>\n",
       "      <td>0.0</td>\n",
       "      <td>0.0</td>\n",
       "      <td>0.0</td>\n",
       "      <td>192.5000</td>\n",
       "      <td>617.0</td>\n",
       "    </tr>\n",
       "    <tr>\n",
       "      <th>PersonalLoan</th>\n",
       "      <td>480.0</td>\n",
       "      <td>1.000000</td>\n",
       "      <td>0.000000</td>\n",
       "      <td>1.0</td>\n",
       "      <td>1.0</td>\n",
       "      <td>1.0</td>\n",
       "      <td>1.0000</td>\n",
       "      <td>1.0</td>\n",
       "    </tr>\n",
       "    <tr>\n",
       "      <th>SecuritiesAccount</th>\n",
       "      <td>480.0</td>\n",
       "      <td>0.125000</td>\n",
       "      <td>0.331064</td>\n",
       "      <td>0.0</td>\n",
       "      <td>0.0</td>\n",
       "      <td>0.0</td>\n",
       "      <td>0.0000</td>\n",
       "      <td>1.0</td>\n",
       "    </tr>\n",
       "    <tr>\n",
       "      <th>CDAccount</th>\n",
       "      <td>480.0</td>\n",
       "      <td>0.291667</td>\n",
       "      <td>0.455004</td>\n",
       "      <td>0.0</td>\n",
       "      <td>0.0</td>\n",
       "      <td>0.0</td>\n",
       "      <td>1.0000</td>\n",
       "      <td>1.0</td>\n",
       "    </tr>\n",
       "    <tr>\n",
       "      <th>NetBanking</th>\n",
       "      <td>480.0</td>\n",
       "      <td>0.606250</td>\n",
       "      <td>0.489090</td>\n",
       "      <td>0.0</td>\n",
       "      <td>0.0</td>\n",
       "      <td>1.0</td>\n",
       "      <td>1.0000</td>\n",
       "      <td>1.0</td>\n",
       "    </tr>\n",
       "    <tr>\n",
       "      <th>CreditCard</th>\n",
       "      <td>480.0</td>\n",
       "      <td>0.297917</td>\n",
       "      <td>0.457820</td>\n",
       "      <td>0.0</td>\n",
       "      <td>0.0</td>\n",
       "      <td>0.0</td>\n",
       "      <td>1.0000</td>\n",
       "      <td>1.0</td>\n",
       "    </tr>\n",
       "  </tbody>\n",
       "</table>\n",
       "</div>"
      ],
      "text/plain": [
       "                   count        mean         std   min    25%    50%  \\\n",
       "Age                480.0   45.066667   11.590964  26.0   35.0   45.0   \n",
       "Experience         480.0   19.843750   11.582443   0.0    9.0   20.0   \n",
       "Income             480.0  144.745833   31.584429  60.0  122.0  142.5   \n",
       "Family             480.0    2.611328    1.112305   1.0    2.0    3.0   \n",
       "CCAvg              480.0    3.905352    2.097681   0.0    2.6    3.8   \n",
       "Education          480.0    2.233333    0.753373   1.0    2.0    2.0   \n",
       "Mortgage           480.0  100.845833  160.847862   0.0    0.0    0.0   \n",
       "PersonalLoan       480.0    1.000000    0.000000   1.0    1.0    1.0   \n",
       "SecuritiesAccount  480.0    0.125000    0.331064   0.0    0.0    0.0   \n",
       "CDAccount          480.0    0.291667    0.455004   0.0    0.0    0.0   \n",
       "NetBanking         480.0    0.606250    0.489090   0.0    0.0    1.0   \n",
       "CreditCard         480.0    0.297917    0.457820   0.0    0.0    0.0   \n",
       "\n",
       "                        75%    max  \n",
       "Age                 55.0000   65.0  \n",
       "Experience          30.0000   41.0  \n",
       "Income             172.0000  203.0  \n",
       "Family               4.0000    4.0  \n",
       "CCAvg                5.3475   10.0  \n",
       "Education            3.0000    3.0  \n",
       "Mortgage           192.5000  617.0  \n",
       "PersonalLoan         1.0000    1.0  \n",
       "SecuritiesAccount    0.0000    1.0  \n",
       "CDAccount            1.0000    1.0  \n",
       "NetBanking           1.0000    1.0  \n",
       "CreditCard           1.0000    1.0  "
      ]
     },
     "execution_count": 748,
     "metadata": {},
     "output_type": "execute_result"
    }
   ],
   "source": [
    "# First lets filter the consumers who accepted personal loan\n",
    "bpl_pld = bpl_data[bpl_data['PersonalLoan']==1]\n",
    "# Lets understand the statistics of numeric independant variables\n",
    "bpl_pld.describe().transpose()"
   ]
  },
  {
   "cell_type": "code",
   "execution_count": 749,
   "metadata": {},
   "outputs": [
    {
     "data": {
      "text/plain": [
       "<matplotlib.axes._subplots.AxesSubplot at 0x1a75c14c10>"
      ]
     },
     "execution_count": 749,
     "metadata": {},
     "output_type": "execute_result"
    },
    {
     "data": {
      "image/png": "[encoded data removed]",
      "text/plain": [
       "<matplotlib.figure.Figure at 0x1a75b26710>"
      ]
     },
     "metadata": {},
     "output_type": "display_data"
    }
   ],
   "source": [
    "bpl_pld.groupby('Education').size().plot(kind='bar')"
   ]
  },
  {
   "cell_type": "code",
   "execution_count": 750,
   "metadata": {},
   "outputs": [
    {
     "data": {
      "text/plain": [
       "<matplotlib.axes._subplots.AxesSubplot at 0x1a75b1ddd0>"
      ]
     },
     "execution_count": 750,
     "metadata": {},
     "output_type": "execute_result"
    },
    {
     "data": {
      "image/png": "[encoded data removed]",
      "text/plain": [
       "<matplotlib.figure.Figure at 0x1a75c40350>"
      ]
     },
     "metadata": {},
     "output_type": "display_data"
    }
   ],
   "source": [
    "bpl_pld.groupby('SecuritiesAccount').size().plot(kind='bar')"
   ]
  },
  {
   "cell_type": "code",
   "execution_count": 751,
   "metadata": {},
   "outputs": [
    {
     "data": {
      "text/plain": [
       "<matplotlib.axes._subplots.AxesSubplot at 0x1a75bb8050>"
      ]
     },
     "execution_count": 751,
     "metadata": {},
     "output_type": "execute_result"
    },
    {
     "data": {
      "image/png": "[encoded data removed]",
      "text/plain": [
       "<matplotlib.figure.Figure at 0x1a75c8cbd0>"
      ]
     },
     "metadata": {},
     "output_type": "display_data"
    }
   ],
   "source": [
    "bpl_pld.groupby('CDAccount').size().plot(kind='bar')"
   ]
  },
  {
   "cell_type": "code",
   "execution_count": 752,
   "metadata": {},
   "outputs": [
    {
     "data": {
      "text/plain": [
       "<matplotlib.axes._subplots.AxesSubplot at 0x1a75d6c410>"
      ]
     },
     "execution_count": 752,
     "metadata": {},
     "output_type": "execute_result"
    },
    {
     "data": {
      "image/png": "[encoded data removed]",
      "text/plain": [
       "<matplotlib.figure.Figure at 0x1a75d63390>"
      ]
     },
     "metadata": {},
     "output_type": "display_data"
    }
   ],
   "source": [
    "bpl_pld.groupby('NetBanking').size().plot(kind='bar')"
   ]
  },
  {
   "cell_type": "code",
   "execution_count": 753,
   "metadata": {},
   "outputs": [
    {
     "data": {
      "text/plain": [
       "<matplotlib.axes._subplots.AxesSubplot at 0x1a75c60d90>"
      ]
     },
     "execution_count": 753,
     "metadata": {},
     "output_type": "execute_result"
    },
    {
     "data": {
      "image/png": "[encoded data removed]",
      "text/plain": [
       "<matplotlib.figure.Figure at 0x1a75e1c310>"
      ]
     },
     "metadata": {},
     "output_type": "display_data"
    }
   ],
   "source": [
    "bpl_pld.groupby('CreditCard').size().plot(kind='bar')"
   ]
  },
  {
   "cell_type": "markdown",
   "metadata": {},
   "source": [
    "## Statistical Findings of the consumers who took the Personal Loan\n",
    "\n",
    "Total consumers who accepted personal loan = 480  \n",
    "Their average experience level = 19.8  \n",
    "Their average age is 45  \n",
    "Their average income is 144.75K  \n",
    "Their average family size is 3  \n",
    "Their average spending on credit card is 3.9K  \n",
    "Their average mortgage is 100.8K  \n",
    "~43% of them completed Advanced/Professional Education  \n",
    "~87.5% of them don't have securities account  \n",
    "~71% of them don't have CD Account  \n",
    "~61% of them use Internet Banking facility  \n",
    "~70% of them don't hold credit card  "
   ]
  },
  {
   "cell_type": "markdown",
   "metadata": {},
   "source": [
    "## Find the Outliers in the data"
   ]
  },
  {
   "cell_type": "code",
   "execution_count": 754,
   "metadata": {},
   "outputs": [
    {
     "data": {
      "text/html": [
       "<div>\n",
       "<style scoped>\n",
       "    .dataframe tbody tr th:only-of-type {\n",
       "        vertical-align: middle;\n",
       "    }\n",
       "\n",
       "    .dataframe tbody tr th {\n",
       "        vertical-align: top;\n",
       "    }\n",
       "\n",
       "    .dataframe thead th {\n",
       "        text-align: right;\n",
       "    }\n",
       "</style>\n",
       "<table border=\"1\" class=\"dataframe\">\n",
       "  <thead>\n",
       "    <tr style=\"text-align: right;\">\n",
       "      <th></th>\n",
       "      <th>count</th>\n",
       "      <th>mean</th>\n",
       "      <th>std</th>\n",
       "      <th>min</th>\n",
       "      <th>25%</th>\n",
       "      <th>50%</th>\n",
       "      <th>75%</th>\n",
       "      <th>max</th>\n",
       "      <th>1.5IQR</th>\n",
       "      <th>lwhisker</th>\n",
       "      <th>rwhisker</th>\n",
       "    </tr>\n",
       "  </thead>\n",
       "  <tbody>\n",
       "    <tr>\n",
       "      <th>Age</th>\n",
       "      <td>5000.0</td>\n",
       "      <td>45.338400</td>\n",
       "      <td>11.463166</td>\n",
       "      <td>23.0</td>\n",
       "      <td>35.0</td>\n",
       "      <td>45.0</td>\n",
       "      <td>55.0</td>\n",
       "      <td>67.0</td>\n",
       "      <td>30.0</td>\n",
       "      <td>5.0</td>\n",
       "      <td>85.0</td>\n",
       "    </tr>\n",
       "    <tr>\n",
       "      <th>Experience</th>\n",
       "      <td>5000.0</td>\n",
       "      <td>20.104600</td>\n",
       "      <td>11.467954</td>\n",
       "      <td>-3.0</td>\n",
       "      <td>10.0</td>\n",
       "      <td>20.0</td>\n",
       "      <td>30.0</td>\n",
       "      <td>43.0</td>\n",
       "      <td>30.0</td>\n",
       "      <td>-20.0</td>\n",
       "      <td>60.0</td>\n",
       "    </tr>\n",
       "    <tr>\n",
       "      <th>Income</th>\n",
       "      <td>5000.0</td>\n",
       "      <td>73.774200</td>\n",
       "      <td>46.033729</td>\n",
       "      <td>8.0</td>\n",
       "      <td>39.0</td>\n",
       "      <td>64.0</td>\n",
       "      <td>98.0</td>\n",
       "      <td>224.0</td>\n",
       "      <td>88.5</td>\n",
       "      <td>-49.5</td>\n",
       "      <td>186.5</td>\n",
       "    </tr>\n",
       "    <tr>\n",
       "      <th>Family</th>\n",
       "      <td>4982.0</td>\n",
       "      <td>2.396484</td>\n",
       "      <td>1.146484</td>\n",
       "      <td>1.0</td>\n",
       "      <td>1.0</td>\n",
       "      <td>2.0</td>\n",
       "      <td>3.0</td>\n",
       "      <td>4.0</td>\n",
       "      <td>3.0</td>\n",
       "      <td>-2.0</td>\n",
       "      <td>6.0</td>\n",
       "    </tr>\n",
       "    <tr>\n",
       "      <th>CCAvg</th>\n",
       "      <td>5000.0</td>\n",
       "      <td>1.937932</td>\n",
       "      <td>1.747658</td>\n",
       "      <td>0.0</td>\n",
       "      <td>0.7</td>\n",
       "      <td>1.5</td>\n",
       "      <td>2.5</td>\n",
       "      <td>10.0</td>\n",
       "      <td>2.7</td>\n",
       "      <td>-2.0</td>\n",
       "      <td>5.2</td>\n",
       "    </tr>\n",
       "    <tr>\n",
       "      <th>Education</th>\n",
       "      <td>5000.0</td>\n",
       "      <td>1.881000</td>\n",
       "      <td>0.839869</td>\n",
       "      <td>1.0</td>\n",
       "      <td>1.0</td>\n",
       "      <td>2.0</td>\n",
       "      <td>3.0</td>\n",
       "      <td>3.0</td>\n",
       "      <td>3.0</td>\n",
       "      <td>-2.0</td>\n",
       "      <td>6.0</td>\n",
       "    </tr>\n",
       "    <tr>\n",
       "      <th>Mortgage</th>\n",
       "      <td>5000.0</td>\n",
       "      <td>56.498800</td>\n",
       "      <td>101.713802</td>\n",
       "      <td>0.0</td>\n",
       "      <td>0.0</td>\n",
       "      <td>0.0</td>\n",
       "      <td>101.0</td>\n",
       "      <td>635.0</td>\n",
       "      <td>151.5</td>\n",
       "      <td>-151.5</td>\n",
       "      <td>252.5</td>\n",
       "    </tr>\n",
       "    <tr>\n",
       "      <th>PersonalLoan</th>\n",
       "      <td>5000.0</td>\n",
       "      <td>0.096000</td>\n",
       "      <td>0.294621</td>\n",
       "      <td>0.0</td>\n",
       "      <td>0.0</td>\n",
       "      <td>0.0</td>\n",
       "      <td>0.0</td>\n",
       "      <td>1.0</td>\n",
       "      <td>0.0</td>\n",
       "      <td>0.0</td>\n",
       "      <td>0.0</td>\n",
       "    </tr>\n",
       "    <tr>\n",
       "      <th>SecuritiesAccount</th>\n",
       "      <td>5000.0</td>\n",
       "      <td>0.104400</td>\n",
       "      <td>0.305809</td>\n",
       "      <td>0.0</td>\n",
       "      <td>0.0</td>\n",
       "      <td>0.0</td>\n",
       "      <td>0.0</td>\n",
       "      <td>1.0</td>\n",
       "      <td>0.0</td>\n",
       "      <td>0.0</td>\n",
       "      <td>0.0</td>\n",
       "    </tr>\n",
       "    <tr>\n",
       "      <th>CDAccount</th>\n",
       "      <td>5000.0</td>\n",
       "      <td>0.060400</td>\n",
       "      <td>0.238250</td>\n",
       "      <td>0.0</td>\n",
       "      <td>0.0</td>\n",
       "      <td>0.0</td>\n",
       "      <td>0.0</td>\n",
       "      <td>1.0</td>\n",
       "      <td>0.0</td>\n",
       "      <td>0.0</td>\n",
       "      <td>0.0</td>\n",
       "    </tr>\n",
       "    <tr>\n",
       "      <th>NetBanking</th>\n",
       "      <td>5000.0</td>\n",
       "      <td>0.596800</td>\n",
       "      <td>0.490589</td>\n",
       "      <td>0.0</td>\n",
       "      <td>0.0</td>\n",
       "      <td>1.0</td>\n",
       "      <td>1.0</td>\n",
       "      <td>1.0</td>\n",
       "      <td>1.5</td>\n",
       "      <td>-1.5</td>\n",
       "      <td>2.5</td>\n",
       "    </tr>\n",
       "    <tr>\n",
       "      <th>CreditCard</th>\n",
       "      <td>5000.0</td>\n",
       "      <td>0.294000</td>\n",
       "      <td>0.455637</td>\n",
       "      <td>0.0</td>\n",
       "      <td>0.0</td>\n",
       "      <td>0.0</td>\n",
       "      <td>1.0</td>\n",
       "      <td>1.0</td>\n",
       "      <td>1.5</td>\n",
       "      <td>-1.5</td>\n",
       "      <td>2.5</td>\n",
       "    </tr>\n",
       "  </tbody>\n",
       "</table>\n",
       "</div>"
      ],
      "text/plain": [
       "                    count       mean         std   min   25%   50%    75%  \\\n",
       "Age                5000.0  45.338400   11.463166  23.0  35.0  45.0   55.0   \n",
       "Experience         5000.0  20.104600   11.467954  -3.0  10.0  20.0   30.0   \n",
       "Income             5000.0  73.774200   46.033729   8.0  39.0  64.0   98.0   \n",
       "Family             4982.0   2.396484    1.146484   1.0   1.0   2.0    3.0   \n",
       "CCAvg              5000.0   1.937932    1.747658   0.0   0.7   1.5    2.5   \n",
       "Education          5000.0   1.881000    0.839869   1.0   1.0   2.0    3.0   \n",
       "Mortgage           5000.0  56.498800  101.713802   0.0   0.0   0.0  101.0   \n",
       "PersonalLoan       5000.0   0.096000    0.294621   0.0   0.0   0.0    0.0   \n",
       "SecuritiesAccount  5000.0   0.104400    0.305809   0.0   0.0   0.0    0.0   \n",
       "CDAccount          5000.0   0.060400    0.238250   0.0   0.0   0.0    0.0   \n",
       "NetBanking         5000.0   0.596800    0.490589   0.0   0.0   1.0    1.0   \n",
       "CreditCard         5000.0   0.294000    0.455637   0.0   0.0   0.0    1.0   \n",
       "\n",
       "                     max  1.5IQR  lwhisker  rwhisker  \n",
       "Age                 67.0    30.0       5.0      85.0  \n",
       "Experience          43.0    30.0     -20.0      60.0  \n",
       "Income             224.0    88.5     -49.5     186.5  \n",
       "Family               4.0     3.0      -2.0       6.0  \n",
       "CCAvg               10.0     2.7      -2.0       5.2  \n",
       "Education            3.0     3.0      -2.0       6.0  \n",
       "Mortgage           635.0   151.5    -151.5     252.5  \n",
       "PersonalLoan         1.0     0.0       0.0       0.0  \n",
       "SecuritiesAccount    1.0     0.0       0.0       0.0  \n",
       "CDAccount            1.0     0.0       0.0       0.0  \n",
       "NetBanking           1.0     1.5      -1.5       2.5  \n",
       "CreditCard           1.0     1.5      -1.5       2.5  "
      ]
     },
     "execution_count": 754,
     "metadata": {},
     "output_type": "execute_result"
    }
   ],
   "source": [
    "# Calculate InterQuartile Range to find outliers\n",
    "# IQR = Q3 - Q1 (75% - 25%)\n",
    "# Left Tail Whisker = Q1 - 1.5*IQR = 25% - 1.5*IQR\n",
    "# Right Tail Whisker = Q3 - 1.5*IQR = 75% - 1.5*IQR\n",
    "# Outliers: Values < Left Tail Whisker and Values > Right Tail Whisker\n",
    "stats_desc['1.5IQR'] = stats_desc['75%'] - stats_desc['25%']\n",
    "stats_desc['1.5IQR'] = stats_desc['1.5IQR']*1.5\n",
    "stats_desc['lwhisker'] = stats_desc['25%'] - stats_desc['1.5IQR']\n",
    "stats_desc['rwhisker'] = stats_desc['75%'] + stats_desc['1.5IQR']\n",
    "stats_desc"
   ]
  },
  {
   "cell_type": "code",
   "execution_count": 755,
   "metadata": {},
   "outputs": [
    {
     "data": {
      "text/plain": [
       "(602, 13)"
      ]
     },
     "execution_count": 755,
     "metadata": {},
     "output_type": "execute_result"
    }
   ],
   "source": [
    "# Find & print the Outliers (Take into account only Continuous Variables)\n",
    "bpl_data[(bpl_data['Age'] < stats_desc.loc['Age'].lwhisker) | \n",
    "    (bpl_data['Age'] > stats_desc.loc['Age'].rwhisker) | \n",
    "    (bpl_data['Experience'] < stats_desc.loc['Experience'].lwhisker) | \n",
    "    (bpl_data['Experience'] > stats_desc.loc['Experience'].rwhisker) | \n",
    "    (bpl_data['Income'] < stats_desc.loc['Income'].lwhisker) | \n",
    "    (bpl_data['Income'] > stats_desc.loc['Income'].rwhisker) |\n",
    "    (bpl_data['Family'] < stats_desc.loc['Family'].lwhisker) | \n",
    "    (bpl_data['Family'] > stats_desc.loc['Family'].rwhisker) |      \n",
    "    (bpl_data['CCAvg'] < stats_desc.loc['CCAvg'].lwhisker) | \n",
    "    (bpl_data['CCAvg'] > stats_desc.loc['CCAvg'].rwhisker) |\n",
    "    (bpl_data['Mortgage'] < stats_desc.loc['Mortgage'].lwhisker) | \n",
    "    (bpl_data['Mortgage'] > stats_desc.loc['Mortgage'].rwhisker)].shape\n",
    "# Total 602 Outlier records "
   ]
  },
  {
   "cell_type": "markdown",
   "metadata": {},
   "source": [
    "## Drop the outliers and print the shape\n",
    "\n",
    "*Total Outliers = 602*  \n",
    "*Remaining Data = 4398 Rows*"
   ]
  },
  {
   "cell_type": "code",
   "execution_count": 756,
   "metadata": {},
   "outputs": [
    {
     "data": {
      "text/plain": [
       "(4398, 13)"
      ]
     },
     "execution_count": 756,
     "metadata": {},
     "output_type": "execute_result"
    }
   ],
   "source": [
    "# Drop the outliers\n",
    "bpl_nout = bpl_data.drop(bpl_data[(bpl_data['Age'] < stats_desc.loc['Age'].lwhisker) | \n",
    "    (bpl_data['Age'] > stats_desc.loc['Age'].rwhisker) | \n",
    "    (bpl_data['Experience'] < stats_desc.loc['Experience'].lwhisker) | \n",
    "    (bpl_data['Experience'] > stats_desc.loc['Experience'].rwhisker) | \n",
    "    (bpl_data['Income'] < stats_desc.loc['Income'].lwhisker) | \n",
    "    (bpl_data['Income'] > stats_desc.loc['Income'].rwhisker) |\n",
    "    (bpl_data['Family'] < stats_desc.loc['Family'].lwhisker) | \n",
    "    (bpl_data['Family'] > stats_desc.loc['Family'].rwhisker) |      \n",
    "    (bpl_data['CCAvg'] < stats_desc.loc['CCAvg'].lwhisker) | \n",
    "    (bpl_data['CCAvg'] > stats_desc.loc['CCAvg'].rwhisker) |\n",
    "    (bpl_data['Mortgage'] < stats_desc.loc['Mortgage'].lwhisker) | \n",
    "    (bpl_data['Mortgage'] > stats_desc.loc['Mortgage'].rwhisker)].index)\n",
    "bpl_nout.shape"
   ]
  },
  {
   "cell_type": "markdown",
   "metadata": {},
   "source": [
    "## Understand the Correlation between the dependant and independant variables"
   ]
  },
  {
   "cell_type": "code",
   "execution_count": 757,
   "metadata": {},
   "outputs": [
    {
     "data": {
      "text/html": [
       "<style  type=\"text/css\" >\n",
       "    #T_ab96299c_8274_11e8_9d7f_72000296bf70row0_col0 {\n",
       "            background-color:  #b40426;\n",
       "        }    #T_ab96299c_8274_11e8_9d7f_72000296bf70row0_col1 {\n",
       "            background-color:  #b50927;\n",
       "        }    #T_ab96299c_8274_11e8_9d7f_72000296bf70row0_col2 {\n",
       "            background-color:  #4055c8;\n",
       "        }    #T_ab96299c_8274_11e8_9d7f_72000296bf70row0_col3 {\n",
       "            background-color:  #3b4cc0;\n",
       "        }    #T_ab96299c_8274_11e8_9d7f_72000296bf70row0_col4 {\n",
       "            background-color:  #445acc;\n",
       "        }    #T_ab96299c_8274_11e8_9d7f_72000296bf70row0_col5 {\n",
       "            background-color:  #5572df;\n",
       "        }    #T_ab96299c_8274_11e8_9d7f_72000296bf70row0_col6 {\n",
       "            background-color:  #4961d2;\n",
       "        }    #T_ab96299c_8274_11e8_9d7f_72000296bf70row0_col7 {\n",
       "            background-color:  #465ecf;\n",
       "        }    #T_ab96299c_8274_11e8_9d7f_72000296bf70row0_col8 {\n",
       "            background-color:  #4c66d6;\n",
       "        }    #T_ab96299c_8274_11e8_9d7f_72000296bf70row0_col9 {\n",
       "            background-color:  #4c66d6;\n",
       "        }    #T_ab96299c_8274_11e8_9d7f_72000296bf70row0_col10 {\n",
       "            background-color:  #506bda;\n",
       "        }    #T_ab96299c_8274_11e8_9d7f_72000296bf70row0_col11 {\n",
       "            background-color:  #4e68d8;\n",
       "        }    #T_ab96299c_8274_11e8_9d7f_72000296bf70row1_col0 {\n",
       "            background-color:  #b50927;\n",
       "        }    #T_ab96299c_8274_11e8_9d7f_72000296bf70row1_col1 {\n",
       "            background-color:  #b40426;\n",
       "        }    #T_ab96299c_8274_11e8_9d7f_72000296bf70row1_col2 {\n",
       "            background-color:  #445acc;\n",
       "        }    #T_ab96299c_8274_11e8_9d7f_72000296bf70row1_col3 {\n",
       "            background-color:  #3b4cc0;\n",
       "        }    #T_ab96299c_8274_11e8_9d7f_72000296bf70row1_col4 {\n",
       "            background-color:  #445acc;\n",
       "        }    #T_ab96299c_8274_11e8_9d7f_72000296bf70row1_col5 {\n",
       "            background-color:  #4e68d8;\n",
       "        }    #T_ab96299c_8274_11e8_9d7f_72000296bf70row1_col6 {\n",
       "            background-color:  #4a63d3;\n",
       "        }    #T_ab96299c_8274_11e8_9d7f_72000296bf70row1_col7 {\n",
       "            background-color:  #4961d2;\n",
       "        }    #T_ab96299c_8274_11e8_9d7f_72000296bf70row1_col8 {\n",
       "            background-color:  #4e68d8;\n",
       "        }    #T_ab96299c_8274_11e8_9d7f_72000296bf70row1_col9 {\n",
       "            background-color:  #4f69d9;\n",
       "        }    #T_ab96299c_8274_11e8_9d7f_72000296bf70row1_col10 {\n",
       "            background-color:  #516ddb;\n",
       "        }    #T_ab96299c_8274_11e8_9d7f_72000296bf70row1_col11 {\n",
       "            background-color:  #506bda;\n",
       "        }    #T_ab96299c_8274_11e8_9d7f_72000296bf70row2_col0 {\n",
       "            background-color:  #5977e3;\n",
       "        }    #T_ab96299c_8274_11e8_9d7f_72000296bf70row2_col1 {\n",
       "            background-color:  #5a78e4;\n",
       "        }    #T_ab96299c_8274_11e8_9d7f_72000296bf70row2_col2 {\n",
       "            background-color:  #b40426;\n",
       "        }    #T_ab96299c_8274_11e8_9d7f_72000296bf70row2_col3 {\n",
       "            background-color:  #3d50c3;\n",
       "        }    #T_ab96299c_8274_11e8_9d7f_72000296bf70row2_col4 {\n",
       "            background-color:  #efcfbf;\n",
       "        }    #T_ab96299c_8274_11e8_9d7f_72000296bf70row2_col5 {\n",
       "            background-color:  #3b4cc0;\n",
       "        }    #T_ab96299c_8274_11e8_9d7f_72000296bf70row2_col6 {\n",
       "            background-color:  #536edd;\n",
       "        }    #T_ab96299c_8274_11e8_9d7f_72000296bf70row2_col7 {\n",
       "            background-color:  #e6d7cf;\n",
       "        }    #T_ab96299c_8274_11e8_9d7f_72000296bf70row2_col8 {\n",
       "            background-color:  #6384eb;\n",
       "        }    #T_ab96299c_8274_11e8_9d7f_72000296bf70row2_col9 {\n",
       "            background-color:  #85a8fc;\n",
       "        }    #T_ab96299c_8274_11e8_9d7f_72000296bf70row2_col10 {\n",
       "            background-color:  #6485ec;\n",
       "        }    #T_ab96299c_8274_11e8_9d7f_72000296bf70row2_col11 {\n",
       "            background-color:  #6485ec;\n",
       "        }    #T_ab96299c_8274_11e8_9d7f_72000296bf70row3_col0 {\n",
       "            background-color:  #4f69d9;\n",
       "        }    #T_ab96299c_8274_11e8_9d7f_72000296bf70row3_col1 {\n",
       "            background-color:  #4e68d8;\n",
       "        }    #T_ab96299c_8274_11e8_9d7f_72000296bf70row3_col2 {\n",
       "            background-color:  #3b4cc0;\n",
       "        }    #T_ab96299c_8274_11e8_9d7f_72000296bf70row3_col3 {\n",
       "            background-color:  #b40426;\n",
       "        }    #T_ab96299c_8274_11e8_9d7f_72000296bf70row3_col4 {\n",
       "            background-color:  #506bda;\n",
       "        }    #T_ab96299c_8274_11e8_9d7f_72000296bf70row3_col5 {\n",
       "            background-color:  #6788ee;\n",
       "        }    #T_ab96299c_8274_11e8_9d7f_72000296bf70row3_col6 {\n",
       "            background-color:  #688aef;\n",
       "        }    #T_ab96299c_8274_11e8_9d7f_72000296bf70row3_col7 {\n",
       "            background-color:  #6384eb;\n",
       "        }    #T_ab96299c_8274_11e8_9d7f_72000296bf70row3_col8 {\n",
       "            background-color:  #6788ee;\n",
       "        }    #T_ab96299c_8274_11e8_9d7f_72000296bf70row3_col9 {\n",
       "            background-color:  #5f7fe8;\n",
       "        }    #T_ab96299c_8274_11e8_9d7f_72000296bf70row3_col10 {\n",
       "            background-color:  #6485ec;\n",
       "        }    #T_ab96299c_8274_11e8_9d7f_72000296bf70row3_col11 {\n",
       "            background-color:  #5f7fe8;\n",
       "        }    #T_ab96299c_8274_11e8_9d7f_72000296bf70row4_col0 {\n",
       "            background-color:  #485fd1;\n",
       "        }    #T_ab96299c_8274_11e8_9d7f_72000296bf70row4_col1 {\n",
       "            background-color:  #465ecf;\n",
       "        }    #T_ab96299c_8274_11e8_9d7f_72000296bf70row4_col2 {\n",
       "            background-color:  #e9d5cb;\n",
       "        }    #T_ab96299c_8274_11e8_9d7f_72000296bf70row4_col3 {\n",
       "            background-color:  #3e51c5;\n",
       "        }    #T_ab96299c_8274_11e8_9d7f_72000296bf70row4_col4 {\n",
       "            background-color:  #b40426;\n",
       "        }    #T_ab96299c_8274_11e8_9d7f_72000296bf70row4_col5 {\n",
       "            background-color:  #3b4cc0;\n",
       "        }    #T_ab96299c_8274_11e8_9d7f_72000296bf70row4_col6 {\n",
       "            background-color:  #4961d2;\n",
       "        }    #T_ab96299c_8274_11e8_9d7f_72000296bf70row4_col7 {\n",
       "            background-color:  #b7cff9;\n",
       "        }    #T_ab96299c_8274_11e8_9d7f_72000296bf70row4_col8 {\n",
       "            background-color:  #5470de;\n",
       "        }    #T_ab96299c_8274_11e8_9d7f_72000296bf70row4_col9 {\n",
       "            background-color:  #6788ee;\n",
       "        }    #T_ab96299c_8274_11e8_9d7f_72000296bf70row4_col10 {\n",
       "            background-color:  #485fd1;\n",
       "        }    #T_ab96299c_8274_11e8_9d7f_72000296bf70row4_col11 {\n",
       "            background-color:  #4e68d8;\n",
       "        }    #T_ab96299c_8274_11e8_9d7f_72000296bf70row5_col0 {\n",
       "            background-color:  #6c8ff1;\n",
       "        }    #T_ab96299c_8274_11e8_9d7f_72000296bf70row5_col1 {\n",
       "            background-color:  #6485ec;\n",
       "        }    #T_ab96299c_8274_11e8_9d7f_72000296bf70row5_col2 {\n",
       "            background-color:  #3b4cc0;\n",
       "        }    #T_ab96299c_8274_11e8_9d7f_72000296bf70row5_col3 {\n",
       "            background-color:  #6a8bef;\n",
       "        }    #T_ab96299c_8274_11e8_9d7f_72000296bf70row5_col4 {\n",
       "            background-color:  #4f69d9;\n",
       "        }    #T_ab96299c_8274_11e8_9d7f_72000296bf70row5_col5 {\n",
       "            background-color:  #b40426;\n",
       "        }    #T_ab96299c_8274_11e8_9d7f_72000296bf70row5_col6 {\n",
       "            background-color:  #6687ed;\n",
       "        }    #T_ab96299c_8274_11e8_9d7f_72000296bf70row5_col7 {\n",
       "            background-color:  #80a3fa;\n",
       "        }    #T_ab96299c_8274_11e8_9d7f_72000296bf70row5_col8 {\n",
       "            background-color:  #5e7de7;\n",
       "        }    #T_ab96299c_8274_11e8_9d7f_72000296bf70row5_col9 {\n",
       "            background-color:  #6180e9;\n",
       "        }    #T_ab96299c_8274_11e8_9d7f_72000296bf70row5_col10 {\n",
       "            background-color:  #5b7ae5;\n",
       "        }    #T_ab96299c_8274_11e8_9d7f_72000296bf70row5_col11 {\n",
       "            background-color:  #5e7de7;\n",
       "        }    #T_ab96299c_8274_11e8_9d7f_72000296bf70row6_col0 {\n",
       "            background-color:  #485fd1;\n",
       "        }    #T_ab96299c_8274_11e8_9d7f_72000296bf70row6_col1 {\n",
       "            background-color:  #4961d2;\n",
       "        }    #T_ab96299c_8274_11e8_9d7f_72000296bf70row6_col2 {\n",
       "            background-color:  #3b4cc0;\n",
       "        }    #T_ab96299c_8274_11e8_9d7f_72000296bf70row6_col3 {\n",
       "            background-color:  #536edd;\n",
       "        }    #T_ab96299c_8274_11e8_9d7f_72000296bf70row6_col4 {\n",
       "            background-color:  #455cce;\n",
       "        }    #T_ab96299c_8274_11e8_9d7f_72000296bf70row6_col5 {\n",
       "            background-color:  #4e68d8;\n",
       "        }    #T_ab96299c_8274_11e8_9d7f_72000296bf70row6_col6 {\n",
       "            background-color:  #b40426;\n",
       "        }    #T_ab96299c_8274_11e8_9d7f_72000296bf70row6_col7 {\n",
       "            background-color:  #4358cb;\n",
       "        }    #T_ab96299c_8274_11e8_9d7f_72000296bf70row6_col8 {\n",
       "            background-color:  #485fd1;\n",
       "        }    #T_ab96299c_8274_11e8_9d7f_72000296bf70row6_col9 {\n",
       "            background-color:  #4e68d8;\n",
       "        }    #T_ab96299c_8274_11e8_9d7f_72000296bf70row6_col10 {\n",
       "            background-color:  #485fd1;\n",
       "        }    #T_ab96299c_8274_11e8_9d7f_72000296bf70row6_col11 {\n",
       "            background-color:  #4a63d3;\n",
       "        }    #T_ab96299c_8274_11e8_9d7f_72000296bf70row7_col0 {\n",
       "            background-color:  #3e51c5;\n",
       "        }    #T_ab96299c_8274_11e8_9d7f_72000296bf70row7_col1 {\n",
       "            background-color:  #3e51c5;\n",
       "        }    #T_ab96299c_8274_11e8_9d7f_72000296bf70row7_col2 {\n",
       "            background-color:  #d8dce2;\n",
       "        }    #T_ab96299c_8274_11e8_9d7f_72000296bf70row7_col3 {\n",
       "            background-color:  #465ecf;\n",
       "        }    #T_ab96299c_8274_11e8_9d7f_72000296bf70row7_col4 {\n",
       "            background-color:  #aec9fc;\n",
       "        }    #T_ab96299c_8274_11e8_9d7f_72000296bf70row7_col5 {\n",
       "            background-color:  #6180e9;\n",
       "        }    #T_ab96299c_8274_11e8_9d7f_72000296bf70row7_col6 {\n",
       "            background-color:  #3b4cc0;\n",
       "        }    #T_ab96299c_8274_11e8_9d7f_72000296bf70row7_col7 {\n",
       "            background-color:  #b40426;\n",
       "        }    #T_ab96299c_8274_11e8_9d7f_72000296bf70row7_col8 {\n",
       "            background-color:  #485fd1;\n",
       "        }    #T_ab96299c_8274_11e8_9d7f_72000296bf70row7_col9 {\n",
       "            background-color:  #92b4fe;\n",
       "        }    #T_ab96299c_8274_11e8_9d7f_72000296bf70row7_col10 {\n",
       "            background-color:  #3d50c3;\n",
       "        }    #T_ab96299c_8274_11e8_9d7f_72000296bf70row7_col11 {\n",
       "            background-color:  #4055c8;\n",
       "        }    #T_ab96299c_8274_11e8_9d7f_72000296bf70row8_col0 {\n",
       "            background-color:  #4257c9;\n",
       "        }    #T_ab96299c_8274_11e8_9d7f_72000296bf70row8_col1 {\n",
       "            background-color:  #4055c8;\n",
       "        }    #T_ab96299c_8274_11e8_9d7f_72000296bf70row8_col2 {\n",
       "            background-color:  #4055c8;\n",
       "        }    #T_ab96299c_8274_11e8_9d7f_72000296bf70row8_col3 {\n",
       "            background-color:  #465ecf;\n",
       "        }    #T_ab96299c_8274_11e8_9d7f_72000296bf70row8_col4 {\n",
       "            background-color:  #455cce;\n",
       "        }    #T_ab96299c_8274_11e8_9d7f_72000296bf70row8_col5 {\n",
       "            background-color:  #3b4cc0;\n",
       "        }    #T_ab96299c_8274_11e8_9d7f_72000296bf70row8_col6 {\n",
       "            background-color:  #3d50c3;\n",
       "        }    #T_ab96299c_8274_11e8_9d7f_72000296bf70row8_col7 {\n",
       "            background-color:  #455cce;\n",
       "        }    #T_ab96299c_8274_11e8_9d7f_72000296bf70row8_col8 {\n",
       "            background-color:  #b40426;\n",
       "        }    #T_ab96299c_8274_11e8_9d7f_72000296bf70row8_col9 {\n",
       "            background-color:  #aac7fd;\n",
       "        }    #T_ab96299c_8274_11e8_9d7f_72000296bf70row8_col10 {\n",
       "            background-color:  #4257c9;\n",
       "        }    #T_ab96299c_8274_11e8_9d7f_72000296bf70row8_col11 {\n",
       "            background-color:  #3b4cc0;\n",
       "        }    #T_ab96299c_8274_11e8_9d7f_72000296bf70row9_col0 {\n",
       "            background-color:  #3e51c5;\n",
       "        }    #T_ab96299c_8274_11e8_9d7f_72000296bf70row9_col1 {\n",
       "            background-color:  #3e51c5;\n",
       "        }    #T_ab96299c_8274_11e8_9d7f_72000296bf70row9_col2 {\n",
       "            background-color:  #5f7fe8;\n",
       "        }    #T_ab96299c_8274_11e8_9d7f_72000296bf70row9_col3 {\n",
       "            background-color:  #3c4ec2;\n",
       "        }    #T_ab96299c_8274_11e8_9d7f_72000296bf70row9_col4 {\n",
       "            background-color:  #5572df;\n",
       "        }    #T_ab96299c_8274_11e8_9d7f_72000296bf70row9_col5 {\n",
       "            background-color:  #3b4cc0;\n",
       "        }    #T_ab96299c_8274_11e8_9d7f_72000296bf70row9_col6 {\n",
       "            background-color:  #3f53c6;\n",
       "        }    #T_ab96299c_8274_11e8_9d7f_72000296bf70row9_col7 {\n",
       "            background-color:  #8db0fe;\n",
       "        }    #T_ab96299c_8274_11e8_9d7f_72000296bf70row9_col8 {\n",
       "            background-color:  #a7c5fe;\n",
       "        }    #T_ab96299c_8274_11e8_9d7f_72000296bf70row9_col9 {\n",
       "            background-color:  #b40426;\n",
       "        }    #T_ab96299c_8274_11e8_9d7f_72000296bf70row9_col10 {\n",
       "            background-color:  #6e90f2;\n",
       "        }    #T_ab96299c_8274_11e8_9d7f_72000296bf70row9_col11 {\n",
       "            background-color:  #92b4fe;\n",
       "        }    #T_ab96299c_8274_11e8_9d7f_72000296bf70row10_col0 {\n",
       "            background-color:  #465ecf;\n",
       "        }    #T_ab96299c_8274_11e8_9d7f_72000296bf70row10_col1 {\n",
       "            background-color:  #465ecf;\n",
       "        }    #T_ab96299c_8274_11e8_9d7f_72000296bf70row10_col2 {\n",
       "            background-color:  #4358cb;\n",
       "        }    #T_ab96299c_8274_11e8_9d7f_72000296bf70row10_col3 {\n",
       "            background-color:  #455cce;\n",
       "        }    #T_ab96299c_8274_11e8_9d7f_72000296bf70row10_col4 {\n",
       "            background-color:  #3b4cc0;\n",
       "        }    #T_ab96299c_8274_11e8_9d7f_72000296bf70row10_col5 {\n",
       "            background-color:  #3b4cc0;\n",
       "        }    #T_ab96299c_8274_11e8_9d7f_72000296bf70row10_col6 {\n",
       "            background-color:  #3e51c5;\n",
       "        }    #T_ab96299c_8274_11e8_9d7f_72000296bf70row10_col7 {\n",
       "            background-color:  #3d50c3;\n",
       "        }    #T_ab96299c_8274_11e8_9d7f_72000296bf70row10_col8 {\n",
       "            background-color:  #4358cb;\n",
       "        }    #T_ab96299c_8274_11e8_9d7f_72000296bf70row10_col9 {\n",
       "            background-color:  #7396f5;\n",
       "        }    #T_ab96299c_8274_11e8_9d7f_72000296bf70row10_col10 {\n",
       "            background-color:  #b40426;\n",
       "        }    #T_ab96299c_8274_11e8_9d7f_72000296bf70row10_col11 {\n",
       "            background-color:  #4055c8;\n",
       "        }    #T_ab96299c_8274_11e8_9d7f_72000296bf70row11_col0 {\n",
       "            background-color:  #4358cb;\n",
       "        }    #T_ab96299c_8274_11e8_9d7f_72000296bf70row11_col1 {\n",
       "            background-color:  #4358cb;\n",
       "        }    #T_ab96299c_8274_11e8_9d7f_72000296bf70row11_col2 {\n",
       "            background-color:  #4055c8;\n",
       "        }    #T_ab96299c_8274_11e8_9d7f_72000296bf70row11_col3 {\n",
       "            background-color:  #3f53c6;\n",
       "        }    #T_ab96299c_8274_11e8_9d7f_72000296bf70row11_col4 {\n",
       "            background-color:  #3f53c6;\n",
       "        }    #T_ab96299c_8274_11e8_9d7f_72000296bf70row11_col5 {\n",
       "            background-color:  #3b4cc0;\n",
       "        }    #T_ab96299c_8274_11e8_9d7f_72000296bf70row11_col6 {\n",
       "            background-color:  #3f53c6;\n",
       "        }    #T_ab96299c_8274_11e8_9d7f_72000296bf70row11_col7 {\n",
       "            background-color:  #3e51c5;\n",
       "        }    #T_ab96299c_8274_11e8_9d7f_72000296bf70row11_col8 {\n",
       "            background-color:  #3b4cc0;\n",
       "        }    #T_ab96299c_8274_11e8_9d7f_72000296bf70row11_col9 {\n",
       "            background-color:  #94b6ff;\n",
       "        }    #T_ab96299c_8274_11e8_9d7f_72000296bf70row11_col10 {\n",
       "            background-color:  #3f53c6;\n",
       "        }    #T_ab96299c_8274_11e8_9d7f_72000296bf70row11_col11 {\n",
       "            background-color:  #b40426;\n",
       "        }</style>  \n",
       "<table id=\"T_ab96299c_8274_11e8_9d7f_72000296bf70\" > \n",
       "<thead>    <tr> \n",
       "        <th class=\"blank level0\" ></th> \n",
       "        <th class=\"col_heading level0 col0\" >Age</th> \n",
       "        <th class=\"col_heading level0 col1\" >Experience</th> \n",
       "        <th class=\"col_heading level0 col2\" >Income</th> \n",
       "        <th class=\"col_heading level0 col3\" >Family</th> \n",
       "        <th class=\"col_heading level0 col4\" >CCAvg</th> \n",
       "        <th class=\"col_heading level0 col5\" >Education</th> \n",
       "        <th class=\"col_heading level0 col6\" >Mortgage</th> \n",
       "        <th class=\"col_heading level0 col7\" >PersonalLoan</th> \n",
       "        <th class=\"col_heading level0 col8\" >SecuritiesAccount</th> \n",
       "        <th class=\"col_heading level0 col9\" >CDAccount</th> \n",
       "        <th class=\"col_heading level0 col10\" >NetBanking</th> \n",
       "        <th class=\"col_heading level0 col11\" >CreditCard</th> \n",
       "    </tr></thead> \n",
       "<tbody>    <tr> \n",
       "        <th id=\"T_ab96299c_8274_11e8_9d7f_72000296bf70level0_row0\" class=\"row_heading level0 row0\" >Age</th> \n",
       "        <td id=\"T_ab96299c_8274_11e8_9d7f_72000296bf70row0_col0\" class=\"data row0 col0\" >1.0</td> \n",
       "        <td id=\"T_ab96299c_8274_11e8_9d7f_72000296bf70row0_col1\" class=\"data row0 col1\" >0.99</td> \n",
       "        <td id=\"T_ab96299c_8274_11e8_9d7f_72000296bf70row0_col2\" class=\"data row0 col2\" >-0.036</td> \n",
       "        <td id=\"T_ab96299c_8274_11e8_9d7f_72000296bf70row0_col3\" class=\"data row0 col3\" >-0.058</td> \n",
       "        <td id=\"T_ab96299c_8274_11e8_9d7f_72000296bf70row0_col4\" class=\"data row0 col4\" >-0.024</td> \n",
       "        <td id=\"T_ab96299c_8274_11e8_9d7f_72000296bf70row0_col5\" class=\"data row0 col5\" >0.035</td> \n",
       "        <td id=\"T_ab96299c_8274_11e8_9d7f_72000296bf70row0_col6\" class=\"data row0 col6\" >-0.0076</td> \n",
       "        <td id=\"T_ab96299c_8274_11e8_9d7f_72000296bf70row0_col7\" class=\"data row0 col7\" >-0.015</td> \n",
       "        <td id=\"T_ab96299c_8274_11e8_9d7f_72000296bf70row0_col8\" class=\"data row0 col8\" >0.0057</td> \n",
       "        <td id=\"T_ab96299c_8274_11e8_9d7f_72000296bf70row0_col9\" class=\"data row0 col9\" >0.006</td> \n",
       "        <td id=\"T_ab96299c_8274_11e8_9d7f_72000296bf70row0_col10\" class=\"data row0 col10\" >0.019</td> \n",
       "        <td id=\"T_ab96299c_8274_11e8_9d7f_72000296bf70row0_col11\" class=\"data row0 col11\" >0.011</td> \n",
       "    </tr>    <tr> \n",
       "        <th id=\"T_ab96299c_8274_11e8_9d7f_72000296bf70level0_row1\" class=\"row_heading level0 row1\" >Experience</th> \n",
       "        <td id=\"T_ab96299c_8274_11e8_9d7f_72000296bf70row1_col0\" class=\"data row1 col0\" >0.99</td> \n",
       "        <td id=\"T_ab96299c_8274_11e8_9d7f_72000296bf70row1_col1\" class=\"data row1 col1\" >1.0</td> \n",
       "        <td id=\"T_ab96299c_8274_11e8_9d7f_72000296bf70row1_col2\" class=\"data row1 col2\" >-0.028</td> \n",
       "        <td id=\"T_ab96299c_8274_11e8_9d7f_72000296bf70row1_col3\" class=\"data row1 col3\" >-0.063</td> \n",
       "        <td id=\"T_ab96299c_8274_11e8_9d7f_72000296bf70row1_col4\" class=\"data row1 col4\" >-0.026</td> \n",
       "        <td id=\"T_ab96299c_8274_11e8_9d7f_72000296bf70row1_col5\" class=\"data row1 col5\" >0.0067</td> \n",
       "        <td id=\"T_ab96299c_8274_11e8_9d7f_72000296bf70row1_col6\" class=\"data row1 col6\" >-0.0069</td> \n",
       "        <td id=\"T_ab96299c_8274_11e8_9d7f_72000296bf70row1_col7\" class=\"data row1 col7\" >-0.012</td> \n",
       "        <td id=\"T_ab96299c_8274_11e8_9d7f_72000296bf70row1_col8\" class=\"data row1 col8\" >0.0043</td> \n",
       "        <td id=\"T_ab96299c_8274_11e8_9d7f_72000296bf70row1_col9\" class=\"data row1 col9\" >0.0085</td> \n",
       "        <td id=\"T_ab96299c_8274_11e8_9d7f_72000296bf70row1_col10\" class=\"data row1 col10\" >0.018</td> \n",
       "        <td id=\"T_ab96299c_8274_11e8_9d7f_72000296bf70row1_col11\" class=\"data row1 col11\" >0.013</td> \n",
       "    </tr>    <tr> \n",
       "        <th id=\"T_ab96299c_8274_11e8_9d7f_72000296bf70level0_row2\" class=\"row_heading level0 row2\" >Income</th> \n",
       "        <td id=\"T_ab96299c_8274_11e8_9d7f_72000296bf70row2_col0\" class=\"data row2 col0\" >-0.036</td> \n",
       "        <td id=\"T_ab96299c_8274_11e8_9d7f_72000296bf70row2_col1\" class=\"data row2 col1\" >-0.028</td> \n",
       "        <td id=\"T_ab96299c_8274_11e8_9d7f_72000296bf70row2_col2\" class=\"data row2 col2\" >1.0</td> \n",
       "        <td id=\"T_ab96299c_8274_11e8_9d7f_72000296bf70row2_col3\" class=\"data row2 col3\" >-0.14</td> \n",
       "        <td id=\"T_ab96299c_8274_11e8_9d7f_72000296bf70row2_col4\" class=\"data row2 col4\" >0.52</td> \n",
       "        <td id=\"T_ab96299c_8274_11e8_9d7f_72000296bf70row2_col5\" class=\"data row2 col5\" >-0.15</td> \n",
       "        <td id=\"T_ab96299c_8274_11e8_9d7f_72000296bf70row2_col6\" class=\"data row2 col6\" >-0.056</td> \n",
       "        <td id=\"T_ab96299c_8274_11e8_9d7f_72000296bf70row2_col7\" class=\"data row2 col7\" >0.47</td> \n",
       "        <td id=\"T_ab96299c_8274_11e8_9d7f_72000296bf70row2_col8\" class=\"data row2 col8\" >0.0017</td> \n",
       "        <td id=\"T_ab96299c_8274_11e8_9d7f_72000296bf70row2_col9\" class=\"data row2 col9\" >0.11</td> \n",
       "        <td id=\"T_ab96299c_8274_11e8_9d7f_72000296bf70row2_col10\" class=\"data row2 col10\" >0.0042</td> \n",
       "        <td id=\"T_ab96299c_8274_11e8_9d7f_72000296bf70row2_col11\" class=\"data row2 col11\" >0.0042</td> \n",
       "    </tr>    <tr> \n",
       "        <th id=\"T_ab96299c_8274_11e8_9d7f_72000296bf70level0_row3\" class=\"row_heading level0 row3\" >Family</th> \n",
       "        <td id=\"T_ab96299c_8274_11e8_9d7f_72000296bf70row3_col0\" class=\"data row3 col0\" >-0.058</td> \n",
       "        <td id=\"T_ab96299c_8274_11e8_9d7f_72000296bf70row3_col1\" class=\"data row3 col1\" >-0.063</td> \n",
       "        <td id=\"T_ab96299c_8274_11e8_9d7f_72000296bf70row3_col2\" class=\"data row3 col2\" >-0.14</td> \n",
       "        <td id=\"T_ab96299c_8274_11e8_9d7f_72000296bf70row3_col3\" class=\"data row3 col3\" >1.0</td> \n",
       "        <td id=\"T_ab96299c_8274_11e8_9d7f_72000296bf70row3_col4\" class=\"data row3 col4\" >-0.057</td> \n",
       "        <td id=\"T_ab96299c_8274_11e8_9d7f_72000296bf70row3_col5\" class=\"data row3 col5\" >0.023</td> \n",
       "        <td id=\"T_ab96299c_8274_11e8_9d7f_72000296bf70row3_col6\" class=\"data row3 col6\" >0.027</td> \n",
       "        <td id=\"T_ab96299c_8274_11e8_9d7f_72000296bf70row3_col7\" class=\"data row3 col7\" >0.013</td> \n",
       "        <td id=\"T_ab96299c_8274_11e8_9d7f_72000296bf70row3_col8\" class=\"data row3 col8\" >0.024</td> \n",
       "        <td id=\"T_ab96299c_8274_11e8_9d7f_72000296bf70row3_col9\" class=\"data row3 col9\" >0.00015</td> \n",
       "        <td id=\"T_ab96299c_8274_11e8_9d7f_72000296bf70row3_col10\" class=\"data row3 col10\" >0.014</td> \n",
       "        <td id=\"T_ab96299c_8274_11e8_9d7f_72000296bf70row3_col11\" class=\"data row3 col11\" >0.00022</td> \n",
       "    </tr>    <tr> \n",
       "        <th id=\"T_ab96299c_8274_11e8_9d7f_72000296bf70level0_row4\" class=\"row_heading level0 row4\" >CCAvg</th> \n",
       "        <td id=\"T_ab96299c_8274_11e8_9d7f_72000296bf70row4_col0\" class=\"data row4 col0\" >-0.024</td> \n",
       "        <td id=\"T_ab96299c_8274_11e8_9d7f_72000296bf70row4_col1\" class=\"data row4 col1\" >-0.026</td> \n",
       "        <td id=\"T_ab96299c_8274_11e8_9d7f_72000296bf70row4_col2\" class=\"data row4 col2\" >0.52</td> \n",
       "        <td id=\"T_ab96299c_8274_11e8_9d7f_72000296bf70row4_col3\" class=\"data row4 col3\" >-0.057</td> \n",
       "        <td id=\"T_ab96299c_8274_11e8_9d7f_72000296bf70row4_col4\" class=\"data row4 col4\" >1.0</td> \n",
       "        <td id=\"T_ab96299c_8274_11e8_9d7f_72000296bf70row4_col5\" class=\"data row4 col5\" >-0.071</td> \n",
       "        <td id=\"T_ab96299c_8274_11e8_9d7f_72000296bf70row4_col6\" class=\"data row4 col6\" >-0.018</td> \n",
       "        <td id=\"T_ab96299c_8274_11e8_9d7f_72000296bf70row4_col7\" class=\"data row4 col7\" >0.33</td> \n",
       "        <td id=\"T_ab96299c_8274_11e8_9d7f_72000296bf70row4_col8\" class=\"data row4 col8\" >0.02</td> \n",
       "        <td id=\"T_ab96299c_8274_11e8_9d7f_72000296bf70row4_col9\" class=\"data row4 col9\" >0.083</td> \n",
       "        <td id=\"T_ab96299c_8274_11e8_9d7f_72000296bf70row4_col10\" class=\"data row4 col10\" >-0.021</td> \n",
       "        <td id=\"T_ab96299c_8274_11e8_9d7f_72000296bf70row4_col11\" class=\"data row4 col11\" >-0.0021</td> \n",
       "    </tr>    <tr> \n",
       "        <th id=\"T_ab96299c_8274_11e8_9d7f_72000296bf70level0_row5\" class=\"row_heading level0 row5\" >Education</th> \n",
       "        <td id=\"T_ab96299c_8274_11e8_9d7f_72000296bf70row5_col0\" class=\"data row5 col0\" >0.035</td> \n",
       "        <td id=\"T_ab96299c_8274_11e8_9d7f_72000296bf70row5_col1\" class=\"data row5 col1\" >0.0067</td> \n",
       "        <td id=\"T_ab96299c_8274_11e8_9d7f_72000296bf70row5_col2\" class=\"data row5 col2\" >-0.15</td> \n",
       "        <td id=\"T_ab96299c_8274_11e8_9d7f_72000296bf70row5_col3\" class=\"data row5 col3\" >0.023</td> \n",
       "        <td id=\"T_ab96299c_8274_11e8_9d7f_72000296bf70row5_col4\" class=\"data row5 col4\" >-0.071</td> \n",
       "        <td id=\"T_ab96299c_8274_11e8_9d7f_72000296bf70row5_col5\" class=\"data row5 col5\" >1.0</td> \n",
       "        <td id=\"T_ab96299c_8274_11e8_9d7f_72000296bf70row5_col6\" class=\"data row5 col6\" >0.011</td> \n",
       "        <td id=\"T_ab96299c_8274_11e8_9d7f_72000296bf70row5_col7\" class=\"data row5 col7\" >0.097</td> \n",
       "        <td id=\"T_ab96299c_8274_11e8_9d7f_72000296bf70row5_col8\" class=\"data row5 col8\" >-0.016</td> \n",
       "        <td id=\"T_ab96299c_8274_11e8_9d7f_72000296bf70row5_col9\" class=\"data row5 col9\" >-0.0065</td> \n",
       "        <td id=\"T_ab96299c_8274_11e8_9d7f_72000296bf70row5_col10\" class=\"data row5 col10\" >-0.024</td> \n",
       "        <td id=\"T_ab96299c_8274_11e8_9d7f_72000296bf70row5_col11\" class=\"data row5 col11\" >-0.017</td> \n",
       "    </tr>    <tr> \n",
       "        <th id=\"T_ab96299c_8274_11e8_9d7f_72000296bf70level0_row6\" class=\"row_heading level0 row6\" >Mortgage</th> \n",
       "        <td id=\"T_ab96299c_8274_11e8_9d7f_72000296bf70row6_col0\" class=\"data row6 col0\" >-0.0076</td> \n",
       "        <td id=\"T_ab96299c_8274_11e8_9d7f_72000296bf70row6_col1\" class=\"data row6 col1\" >-0.0069</td> \n",
       "        <td id=\"T_ab96299c_8274_11e8_9d7f_72000296bf70row6_col2\" class=\"data row6 col2\" >-0.056</td> \n",
       "        <td id=\"T_ab96299c_8274_11e8_9d7f_72000296bf70row6_col3\" class=\"data row6 col3\" >0.027</td> \n",
       "        <td id=\"T_ab96299c_8274_11e8_9d7f_72000296bf70row6_col4\" class=\"data row6 col4\" >-0.018</td> \n",
       "        <td id=\"T_ab96299c_8274_11e8_9d7f_72000296bf70row6_col5\" class=\"data row6 col5\" >0.011</td> \n",
       "        <td id=\"T_ab96299c_8274_11e8_9d7f_72000296bf70row6_col6\" class=\"data row6 col6\" >1.0</td> \n",
       "        <td id=\"T_ab96299c_8274_11e8_9d7f_72000296bf70row6_col7\" class=\"data row6 col7\" >-0.027</td> \n",
       "        <td id=\"T_ab96299c_8274_11e8_9d7f_72000296bf70row6_col8\" class=\"data row6 col8\" >-0.009</td> \n",
       "        <td id=\"T_ab96299c_8274_11e8_9d7f_72000296bf70row6_col9\" class=\"data row6 col9\" >0.0096</td> \n",
       "        <td id=\"T_ab96299c_8274_11e8_9d7f_72000296bf70row6_col10\" class=\"data row6 col10\" >-0.01</td> \n",
       "        <td id=\"T_ab96299c_8274_11e8_9d7f_72000296bf70row6_col11\" class=\"data row6 col11\" >-0.0019</td> \n",
       "    </tr>    <tr> \n",
       "        <th id=\"T_ab96299c_8274_11e8_9d7f_72000296bf70level0_row7\" class=\"row_heading level0 row7\" >PersonalLoan</th> \n",
       "        <td id=\"T_ab96299c_8274_11e8_9d7f_72000296bf70row7_col0\" class=\"data row7 col0\" >-0.015</td> \n",
       "        <td id=\"T_ab96299c_8274_11e8_9d7f_72000296bf70row7_col1\" class=\"data row7 col1\" >-0.012</td> \n",
       "        <td id=\"T_ab96299c_8274_11e8_9d7f_72000296bf70row7_col2\" class=\"data row7 col2\" >0.47</td> \n",
       "        <td id=\"T_ab96299c_8274_11e8_9d7f_72000296bf70row7_col3\" class=\"data row7 col3\" >0.013</td> \n",
       "        <td id=\"T_ab96299c_8274_11e8_9d7f_72000296bf70row7_col4\" class=\"data row7 col4\" >0.33</td> \n",
       "        <td id=\"T_ab96299c_8274_11e8_9d7f_72000296bf70row7_col5\" class=\"data row7 col5\" >0.097</td> \n",
       "        <td id=\"T_ab96299c_8274_11e8_9d7f_72000296bf70row7_col6\" class=\"data row7 col6\" >-0.027</td> \n",
       "        <td id=\"T_ab96299c_8274_11e8_9d7f_72000296bf70row7_col7\" class=\"data row7 col7\" >1.0</td> \n",
       "        <td id=\"T_ab96299c_8274_11e8_9d7f_72000296bf70row7_col8\" class=\"data row7 col8\" >0.017</td> \n",
       "        <td id=\"T_ab96299c_8274_11e8_9d7f_72000296bf70row7_col9\" class=\"data row7 col9\" >0.25</td> \n",
       "        <td id=\"T_ab96299c_8274_11e8_9d7f_72000296bf70row7_col10\" class=\"data row7 col10\" >-0.016</td> \n",
       "        <td id=\"T_ab96299c_8274_11e8_9d7f_72000296bf70row7_col11\" class=\"data row7 col11\" >-0.0056</td> \n",
       "    </tr>    <tr> \n",
       "        <th id=\"T_ab96299c_8274_11e8_9d7f_72000296bf70level0_row8\" class=\"row_heading level0 row8\" >SecuritiesAccount</th> \n",
       "        <td id=\"T_ab96299c_8274_11e8_9d7f_72000296bf70row8_col0\" class=\"data row8 col0\" >0.0057</td> \n",
       "        <td id=\"T_ab96299c_8274_11e8_9d7f_72000296bf70row8_col1\" class=\"data row8 col1\" >0.0043</td> \n",
       "        <td id=\"T_ab96299c_8274_11e8_9d7f_72000296bf70row8_col2\" class=\"data row8 col2\" >0.0017</td> \n",
       "        <td id=\"T_ab96299c_8274_11e8_9d7f_72000296bf70row8_col3\" class=\"data row8 col3\" >0.024</td> \n",
       "        <td id=\"T_ab96299c_8274_11e8_9d7f_72000296bf70row8_col4\" class=\"data row8 col4\" >0.02</td> \n",
       "        <td id=\"T_ab96299c_8274_11e8_9d7f_72000296bf70row8_col5\" class=\"data row8 col5\" >-0.016</td> \n",
       "        <td id=\"T_ab96299c_8274_11e8_9d7f_72000296bf70row8_col6\" class=\"data row8 col6\" >-0.009</td> \n",
       "        <td id=\"T_ab96299c_8274_11e8_9d7f_72000296bf70row8_col7\" class=\"data row8 col7\" >0.017</td> \n",
       "        <td id=\"T_ab96299c_8274_11e8_9d7f_72000296bf70row8_col8\" class=\"data row8 col8\" >1.0</td> \n",
       "        <td id=\"T_ab96299c_8274_11e8_9d7f_72000296bf70row8_col9\" class=\"data row8 col9\" >0.32</td> \n",
       "        <td id=\"T_ab96299c_8274_11e8_9d7f_72000296bf70row8_col10\" class=\"data row8 col10\" >0.0051</td> \n",
       "        <td id=\"T_ab96299c_8274_11e8_9d7f_72000296bf70row8_col11\" class=\"data row8 col11\" >-0.019</td> \n",
       "    </tr>    <tr> \n",
       "        <th id=\"T_ab96299c_8274_11e8_9d7f_72000296bf70level0_row9\" class=\"row_heading level0 row9\" >CDAccount</th> \n",
       "        <td id=\"T_ab96299c_8274_11e8_9d7f_72000296bf70row9_col0\" class=\"data row9 col0\" >0.006</td> \n",
       "        <td id=\"T_ab96299c_8274_11e8_9d7f_72000296bf70row9_col1\" class=\"data row9 col1\" >0.0085</td> \n",
       "        <td id=\"T_ab96299c_8274_11e8_9d7f_72000296bf70row9_col2\" class=\"data row9 col2\" >0.11</td> \n",
       "        <td id=\"T_ab96299c_8274_11e8_9d7f_72000296bf70row9_col3\" class=\"data row9 col3\" >0.00015</td> \n",
       "        <td id=\"T_ab96299c_8274_11e8_9d7f_72000296bf70row9_col4\" class=\"data row9 col4\" >0.083</td> \n",
       "        <td id=\"T_ab96299c_8274_11e8_9d7f_72000296bf70row9_col5\" class=\"data row9 col5\" >-0.0065</td> \n",
       "        <td id=\"T_ab96299c_8274_11e8_9d7f_72000296bf70row9_col6\" class=\"data row9 col6\" >0.0096</td> \n",
       "        <td id=\"T_ab96299c_8274_11e8_9d7f_72000296bf70row9_col7\" class=\"data row9 col7\" >0.25</td> \n",
       "        <td id=\"T_ab96299c_8274_11e8_9d7f_72000296bf70row9_col8\" class=\"data row9 col8\" >0.32</td> \n",
       "        <td id=\"T_ab96299c_8274_11e8_9d7f_72000296bf70row9_col9\" class=\"data row9 col9\" >1.0</td> \n",
       "        <td id=\"T_ab96299c_8274_11e8_9d7f_72000296bf70row9_col10\" class=\"data row9 col10\" >0.16</td> \n",
       "        <td id=\"T_ab96299c_8274_11e8_9d7f_72000296bf70row9_col11\" class=\"data row9 col11\" >0.26</td> \n",
       "    </tr>    <tr> \n",
       "        <th id=\"T_ab96299c_8274_11e8_9d7f_72000296bf70level0_row10\" class=\"row_heading level0 row10\" >NetBanking</th> \n",
       "        <td id=\"T_ab96299c_8274_11e8_9d7f_72000296bf70row10_col0\" class=\"data row10 col0\" >0.019</td> \n",
       "        <td id=\"T_ab96299c_8274_11e8_9d7f_72000296bf70row10_col1\" class=\"data row10 col1\" >0.018</td> \n",
       "        <td id=\"T_ab96299c_8274_11e8_9d7f_72000296bf70row10_col2\" class=\"data row10 col2\" >0.0042</td> \n",
       "        <td id=\"T_ab96299c_8274_11e8_9d7f_72000296bf70row10_col3\" class=\"data row10 col3\" >0.014</td> \n",
       "        <td id=\"T_ab96299c_8274_11e8_9d7f_72000296bf70row10_col4\" class=\"data row10 col4\" >-0.021</td> \n",
       "        <td id=\"T_ab96299c_8274_11e8_9d7f_72000296bf70row10_col5\" class=\"data row10 col5\" >-0.024</td> \n",
       "        <td id=\"T_ab96299c_8274_11e8_9d7f_72000296bf70row10_col6\" class=\"data row10 col6\" >-0.01</td> \n",
       "        <td id=\"T_ab96299c_8274_11e8_9d7f_72000296bf70row10_col7\" class=\"data row10 col7\" >-0.016</td> \n",
       "        <td id=\"T_ab96299c_8274_11e8_9d7f_72000296bf70row10_col8\" class=\"data row10 col8\" >0.0051</td> \n",
       "        <td id=\"T_ab96299c_8274_11e8_9d7f_72000296bf70row10_col9\" class=\"data row10 col9\" >0.16</td> \n",
       "        <td id=\"T_ab96299c_8274_11e8_9d7f_72000296bf70row10_col10\" class=\"data row10 col10\" >1.0</td> \n",
       "        <td id=\"T_ab96299c_8274_11e8_9d7f_72000296bf70row10_col11\" class=\"data row10 col11\" >-0.0011</td> \n",
       "    </tr>    <tr> \n",
       "        <th id=\"T_ab96299c_8274_11e8_9d7f_72000296bf70level0_row11\" class=\"row_heading level0 row11\" >CreditCard</th> \n",
       "        <td id=\"T_ab96299c_8274_11e8_9d7f_72000296bf70row11_col0\" class=\"data row11 col0\" >0.011</td> \n",
       "        <td id=\"T_ab96299c_8274_11e8_9d7f_72000296bf70row11_col1\" class=\"data row11 col1\" >0.013</td> \n",
       "        <td id=\"T_ab96299c_8274_11e8_9d7f_72000296bf70row11_col2\" class=\"data row11 col2\" >0.0042</td> \n",
       "        <td id=\"T_ab96299c_8274_11e8_9d7f_72000296bf70row11_col3\" class=\"data row11 col3\" >0.00022</td> \n",
       "        <td id=\"T_ab96299c_8274_11e8_9d7f_72000296bf70row11_col4\" class=\"data row11 col4\" >-0.0021</td> \n",
       "        <td id=\"T_ab96299c_8274_11e8_9d7f_72000296bf70row11_col5\" class=\"data row11 col5\" >-0.017</td> \n",
       "        <td id=\"T_ab96299c_8274_11e8_9d7f_72000296bf70row11_col6\" class=\"data row11 col6\" >-0.0019</td> \n",
       "        <td id=\"T_ab96299c_8274_11e8_9d7f_72000296bf70row11_col7\" class=\"data row11 col7\" >-0.0056</td> \n",
       "        <td id=\"T_ab96299c_8274_11e8_9d7f_72000296bf70row11_col8\" class=\"data row11 col8\" >-0.019</td> \n",
       "        <td id=\"T_ab96299c_8274_11e8_9d7f_72000296bf70row11_col9\" class=\"data row11 col9\" >0.26</td> \n",
       "        <td id=\"T_ab96299c_8274_11e8_9d7f_72000296bf70row11_col10\" class=\"data row11 col10\" >-0.0011</td> \n",
       "        <td id=\"T_ab96299c_8274_11e8_9d7f_72000296bf70row11_col11\" class=\"data row11 col11\" >1.0</td> \n",
       "    </tr></tbody> \n",
       "</table> "
      ],
      "text/plain": [
       "<pandas.io.formats.style.Styler at 0x1a75dd72d0>"
      ]
     },
     "execution_count": 757,
     "metadata": {},
     "output_type": "execute_result"
    }
   ],
   "source": [
    "# Dependant Variable: PersonalLoan\n",
    "# Let's identify the correlation between the independant variables in the full data\n",
    "bpl_nout.corr(method='pearson').style.format(\"{:.2}\").background_gradient(cmap=plt.get_cmap('coolwarm'), axis=1)\n",
    "# Age -- Education = Very Strong Relationship\n",
    "# Income -- CCAvg = Moderate  Relationship\n",
    "# Income -- Mortgage = Weak Relationship\n",
    "# Family -- Mortgage = Weak Relationship\n",
    "# All other variables are fairly independant"
   ]
  },
  {
   "cell_type": "markdown",
   "metadata": {},
   "source": [
    "### Relationship Observations\n",
    "  \n",
    "Dependant Variable: Personal Loan  \n",
    "Income, CCAvg, CDAccount are the threee variables which has greater strength of correlation with Personal Loan  \n",
    "Age & Experience is tightly coupled, hence it's ok to drop one of them in future calculations  \n",
    "Income & CCAvg have moderate strength of correlation"
   ]
  },
  {
   "cell_type": "markdown",
   "metadata": {},
   "source": [
    "## Remove the variables whose correlation is between -0.1 to +0.1, as these variables will not impact prediction of Personal Loan\n",
    "\n",
    "*Note: The reason for this is that these variables whose value close to zero doesn't have any relationship with Personal Loan, hence the change in those variable values will certainly not impact the prediction"
   ]
  },
  {
   "cell_type": "code",
   "execution_count": 758,
   "metadata": {},
   "outputs": [
    {
     "data": {
      "text/html": [
       "<style  type=\"text/css\" >\n",
       "    #T_aba3ed59_8274_11e8_bf92_72000296bf70row0_col0 {\n",
       "            background-color:  #b40426;\n",
       "        }    #T_aba3ed59_8274_11e8_bf92_72000296bf70row0_col1 {\n",
       "            background-color:  #efcfbf;\n",
       "        }    #T_aba3ed59_8274_11e8_bf92_72000296bf70row0_col2 {\n",
       "            background-color:  #3b4cc0;\n",
       "        }    #T_aba3ed59_8274_11e8_bf92_72000296bf70row0_col3 {\n",
       "            background-color:  #e6d7cf;\n",
       "        }    #T_aba3ed59_8274_11e8_bf92_72000296bf70row0_col4 {\n",
       "            background-color:  #6384eb;\n",
       "        }    #T_aba3ed59_8274_11e8_bf92_72000296bf70row0_col5 {\n",
       "            background-color:  #85a8fc;\n",
       "        }    #T_aba3ed59_8274_11e8_bf92_72000296bf70row0_col6 {\n",
       "            background-color:  #6485ec;\n",
       "        }    #T_aba3ed59_8274_11e8_bf92_72000296bf70row0_col7 {\n",
       "            background-color:  #6485ec;\n",
       "        }    #T_aba3ed59_8274_11e8_bf92_72000296bf70row1_col0 {\n",
       "            background-color:  #e9d5cb;\n",
       "        }    #T_aba3ed59_8274_11e8_bf92_72000296bf70row1_col1 {\n",
       "            background-color:  #b40426;\n",
       "        }    #T_aba3ed59_8274_11e8_bf92_72000296bf70row1_col2 {\n",
       "            background-color:  #3b4cc0;\n",
       "        }    #T_aba3ed59_8274_11e8_bf92_72000296bf70row1_col3 {\n",
       "            background-color:  #b7cff9;\n",
       "        }    #T_aba3ed59_8274_11e8_bf92_72000296bf70row1_col4 {\n",
       "            background-color:  #5470de;\n",
       "        }    #T_aba3ed59_8274_11e8_bf92_72000296bf70row1_col5 {\n",
       "            background-color:  #6788ee;\n",
       "        }    #T_aba3ed59_8274_11e8_bf92_72000296bf70row1_col6 {\n",
       "            background-color:  #485fd1;\n",
       "        }    #T_aba3ed59_8274_11e8_bf92_72000296bf70row1_col7 {\n",
       "            background-color:  #4e68d8;\n",
       "        }    #T_aba3ed59_8274_11e8_bf92_72000296bf70row2_col0 {\n",
       "            background-color:  #3b4cc0;\n",
       "        }    #T_aba3ed59_8274_11e8_bf92_72000296bf70row2_col1 {\n",
       "            background-color:  #4f69d9;\n",
       "        }    #T_aba3ed59_8274_11e8_bf92_72000296bf70row2_col2 {\n",
       "            background-color:  #b40426;\n",
       "        }    #T_aba3ed59_8274_11e8_bf92_72000296bf70row2_col3 {\n",
       "            background-color:  #80a3fa;\n",
       "        }    #T_aba3ed59_8274_11e8_bf92_72000296bf70row2_col4 {\n",
       "            background-color:  #5e7de7;\n",
       "        }    #T_aba3ed59_8274_11e8_bf92_72000296bf70row2_col5 {\n",
       "            background-color:  #6180e9;\n",
       "        }    #T_aba3ed59_8274_11e8_bf92_72000296bf70row2_col6 {\n",
       "            background-color:  #5b7ae5;\n",
       "        }    #T_aba3ed59_8274_11e8_bf92_72000296bf70row2_col7 {\n",
       "            background-color:  #5e7de7;\n",
       "        }    #T_aba3ed59_8274_11e8_bf92_72000296bf70row3_col0 {\n",
       "            background-color:  #d6dce4;\n",
       "        }    #T_aba3ed59_8274_11e8_bf92_72000296bf70row3_col1 {\n",
       "            background-color:  #abc8fd;\n",
       "        }    #T_aba3ed59_8274_11e8_bf92_72000296bf70row3_col2 {\n",
       "            background-color:  #5d7ce6;\n",
       "        }    #T_aba3ed59_8274_11e8_bf92_72000296bf70row3_col3 {\n",
       "            background-color:  #b40426;\n",
       "        }    #T_aba3ed59_8274_11e8_bf92_72000296bf70row3_col4 {\n",
       "            background-color:  #445acc;\n",
       "        }    #T_aba3ed59_8274_11e8_bf92_72000296bf70row3_col5 {\n",
       "            background-color:  #8fb1fe;\n",
       "        }    #T_aba3ed59_8274_11e8_bf92_72000296bf70row3_col6 {\n",
       "            background-color:  #3b4cc0;\n",
       "        }    #T_aba3ed59_8274_11e8_bf92_72000296bf70row3_col7 {\n",
       "            background-color:  #3d50c3;\n",
       "        }    #T_aba3ed59_8274_11e8_bf92_72000296bf70row4_col0 {\n",
       "            background-color:  #4055c8;\n",
       "        }    #T_aba3ed59_8274_11e8_bf92_72000296bf70row4_col1 {\n",
       "            background-color:  #455cce;\n",
       "        }    #T_aba3ed59_8274_11e8_bf92_72000296bf70row4_col2 {\n",
       "            background-color:  #3b4cc0;\n",
       "        }    #T_aba3ed59_8274_11e8_bf92_72000296bf70row4_col3 {\n",
       "            background-color:  #455cce;\n",
       "        }    #T_aba3ed59_8274_11e8_bf92_72000296bf70row4_col4 {\n",
       "            background-color:  #b40426;\n",
       "        }    #T_aba3ed59_8274_11e8_bf92_72000296bf70row4_col5 {\n",
       "            background-color:  #aac7fd;\n",
       "        }    #T_aba3ed59_8274_11e8_bf92_72000296bf70row4_col6 {\n",
       "            background-color:  #4257c9;\n",
       "        }    #T_aba3ed59_8274_11e8_bf92_72000296bf70row4_col7 {\n",
       "            background-color:  #3b4cc0;\n",
       "        }    #T_aba3ed59_8274_11e8_bf92_72000296bf70row5_col0 {\n",
       "            background-color:  #5f7fe8;\n",
       "        }    #T_aba3ed59_8274_11e8_bf92_72000296bf70row5_col1 {\n",
       "            background-color:  #5572df;\n",
       "        }    #T_aba3ed59_8274_11e8_bf92_72000296bf70row5_col2 {\n",
       "            background-color:  #3b4cc0;\n",
       "        }    #T_aba3ed59_8274_11e8_bf92_72000296bf70row5_col3 {\n",
       "            background-color:  #8db0fe;\n",
       "        }    #T_aba3ed59_8274_11e8_bf92_72000296bf70row5_col4 {\n",
       "            background-color:  #a7c5fe;\n",
       "        }    #T_aba3ed59_8274_11e8_bf92_72000296bf70row5_col5 {\n",
       "            background-color:  #b40426;\n",
       "        }    #T_aba3ed59_8274_11e8_bf92_72000296bf70row5_col6 {\n",
       "            background-color:  #6e90f2;\n",
       "        }    #T_aba3ed59_8274_11e8_bf92_72000296bf70row5_col7 {\n",
       "            background-color:  #92b4fe;\n",
       "        }    #T_aba3ed59_8274_11e8_bf92_72000296bf70row6_col0 {\n",
       "            background-color:  #4358cb;\n",
       "        }    #T_aba3ed59_8274_11e8_bf92_72000296bf70row6_col1 {\n",
       "            background-color:  #3b4cc0;\n",
       "        }    #T_aba3ed59_8274_11e8_bf92_72000296bf70row6_col2 {\n",
       "            background-color:  #3b4cc0;\n",
       "        }    #T_aba3ed59_8274_11e8_bf92_72000296bf70row6_col3 {\n",
       "            background-color:  #3d50c3;\n",
       "        }    #T_aba3ed59_8274_11e8_bf92_72000296bf70row6_col4 {\n",
       "            background-color:  #4358cb;\n",
       "        }    #T_aba3ed59_8274_11e8_bf92_72000296bf70row6_col5 {\n",
       "            background-color:  #7396f5;\n",
       "        }    #T_aba3ed59_8274_11e8_bf92_72000296bf70row6_col6 {\n",
       "            background-color:  #b40426;\n",
       "        }    #T_aba3ed59_8274_11e8_bf92_72000296bf70row6_col7 {\n",
       "            background-color:  #4055c8;\n",
       "        }    #T_aba3ed59_8274_11e8_bf92_72000296bf70row7_col0 {\n",
       "            background-color:  #4055c8;\n",
       "        }    #T_aba3ed59_8274_11e8_bf92_72000296bf70row7_col1 {\n",
       "            background-color:  #3f53c6;\n",
       "        }    #T_aba3ed59_8274_11e8_bf92_72000296bf70row7_col2 {\n",
       "            background-color:  #3b4cc0;\n",
       "        }    #T_aba3ed59_8274_11e8_bf92_72000296bf70row7_col3 {\n",
       "            background-color:  #3e51c5;\n",
       "        }    #T_aba3ed59_8274_11e8_bf92_72000296bf70row7_col4 {\n",
       "            background-color:  #3b4cc0;\n",
       "        }    #T_aba3ed59_8274_11e8_bf92_72000296bf70row7_col5 {\n",
       "            background-color:  #94b6ff;\n",
       "        }    #T_aba3ed59_8274_11e8_bf92_72000296bf70row7_col6 {\n",
       "            background-color:  #3f53c6;\n",
       "        }    #T_aba3ed59_8274_11e8_bf92_72000296bf70row7_col7 {\n",
       "            background-color:  #b40426;\n",
       "        }</style>  \n",
       "<table id=\"T_aba3ed59_8274_11e8_bf92_72000296bf70\" > \n",
       "<thead>    <tr> \n",
       "        <th class=\"blank level0\" ></th> \n",
       "        <th class=\"col_heading level0 col0\" >Income</th> \n",
       "        <th class=\"col_heading level0 col1\" >CCAvg</th> \n",
       "        <th class=\"col_heading level0 col2\" >Education</th> \n",
       "        <th class=\"col_heading level0 col3\" >PersonalLoan</th> \n",
       "        <th class=\"col_heading level0 col4\" >SecuritiesAccount</th> \n",
       "        <th class=\"col_heading level0 col5\" >CDAccount</th> \n",
       "        <th class=\"col_heading level0 col6\" >NetBanking</th> \n",
       "        <th class=\"col_heading level0 col7\" >CreditCard</th> \n",
       "    </tr></thead> \n",
       "<tbody>    <tr> \n",
       "        <th id=\"T_aba3ed59_8274_11e8_bf92_72000296bf70level0_row0\" class=\"row_heading level0 row0\" >Income</th> \n",
       "        <td id=\"T_aba3ed59_8274_11e8_bf92_72000296bf70row0_col0\" class=\"data row0 col0\" >1.0</td> \n",
       "        <td id=\"T_aba3ed59_8274_11e8_bf92_72000296bf70row0_col1\" class=\"data row0 col1\" >0.52</td> \n",
       "        <td id=\"T_aba3ed59_8274_11e8_bf92_72000296bf70row0_col2\" class=\"data row0 col2\" >-0.15</td> \n",
       "        <td id=\"T_aba3ed59_8274_11e8_bf92_72000296bf70row0_col3\" class=\"data row0 col3\" >0.47</td> \n",
       "        <td id=\"T_aba3ed59_8274_11e8_bf92_72000296bf70row0_col4\" class=\"data row0 col4\" >0.0017</td> \n",
       "        <td id=\"T_aba3ed59_8274_11e8_bf92_72000296bf70row0_col5\" class=\"data row0 col5\" >0.11</td> \n",
       "        <td id=\"T_aba3ed59_8274_11e8_bf92_72000296bf70row0_col6\" class=\"data row0 col6\" >0.0042</td> \n",
       "        <td id=\"T_aba3ed59_8274_11e8_bf92_72000296bf70row0_col7\" class=\"data row0 col7\" >0.0042</td> \n",
       "    </tr>    <tr> \n",
       "        <th id=\"T_aba3ed59_8274_11e8_bf92_72000296bf70level0_row1\" class=\"row_heading level0 row1\" >CCAvg</th> \n",
       "        <td id=\"T_aba3ed59_8274_11e8_bf92_72000296bf70row1_col0\" class=\"data row1 col0\" >0.52</td> \n",
       "        <td id=\"T_aba3ed59_8274_11e8_bf92_72000296bf70row1_col1\" class=\"data row1 col1\" >1.0</td> \n",
       "        <td id=\"T_aba3ed59_8274_11e8_bf92_72000296bf70row1_col2\" class=\"data row1 col2\" >-0.071</td> \n",
       "        <td id=\"T_aba3ed59_8274_11e8_bf92_72000296bf70row1_col3\" class=\"data row1 col3\" >0.33</td> \n",
       "        <td id=\"T_aba3ed59_8274_11e8_bf92_72000296bf70row1_col4\" class=\"data row1 col4\" >0.02</td> \n",
       "        <td id=\"T_aba3ed59_8274_11e8_bf92_72000296bf70row1_col5\" class=\"data row1 col5\" >0.083</td> \n",
       "        <td id=\"T_aba3ed59_8274_11e8_bf92_72000296bf70row1_col6\" class=\"data row1 col6\" >-0.021</td> \n",
       "        <td id=\"T_aba3ed59_8274_11e8_bf92_72000296bf70row1_col7\" class=\"data row1 col7\" >-0.0021</td> \n",
       "    </tr>    <tr> \n",
       "        <th id=\"T_aba3ed59_8274_11e8_bf92_72000296bf70level0_row2\" class=\"row_heading level0 row2\" >Education</th> \n",
       "        <td id=\"T_aba3ed59_8274_11e8_bf92_72000296bf70row2_col0\" class=\"data row2 col0\" >-0.15</td> \n",
       "        <td id=\"T_aba3ed59_8274_11e8_bf92_72000296bf70row2_col1\" class=\"data row2 col1\" >-0.071</td> \n",
       "        <td id=\"T_aba3ed59_8274_11e8_bf92_72000296bf70row2_col2\" class=\"data row2 col2\" >1.0</td> \n",
       "        <td id=\"T_aba3ed59_8274_11e8_bf92_72000296bf70row2_col3\" class=\"data row2 col3\" >0.097</td> \n",
       "        <td id=\"T_aba3ed59_8274_11e8_bf92_72000296bf70row2_col4\" class=\"data row2 col4\" >-0.016</td> \n",
       "        <td id=\"T_aba3ed59_8274_11e8_bf92_72000296bf70row2_col5\" class=\"data row2 col5\" >-0.0065</td> \n",
       "        <td id=\"T_aba3ed59_8274_11e8_bf92_72000296bf70row2_col6\" class=\"data row2 col6\" >-0.024</td> \n",
       "        <td id=\"T_aba3ed59_8274_11e8_bf92_72000296bf70row2_col7\" class=\"data row2 col7\" >-0.017</td> \n",
       "    </tr>    <tr> \n",
       "        <th id=\"T_aba3ed59_8274_11e8_bf92_72000296bf70level0_row3\" class=\"row_heading level0 row3\" >PersonalLoan</th> \n",
       "        <td id=\"T_aba3ed59_8274_11e8_bf92_72000296bf70row3_col0\" class=\"data row3 col0\" >0.47</td> \n",
       "        <td id=\"T_aba3ed59_8274_11e8_bf92_72000296bf70row3_col1\" class=\"data row3 col1\" >0.33</td> \n",
       "        <td id=\"T_aba3ed59_8274_11e8_bf92_72000296bf70row3_col2\" class=\"data row3 col2\" >0.097</td> \n",
       "        <td id=\"T_aba3ed59_8274_11e8_bf92_72000296bf70row3_col3\" class=\"data row3 col3\" >1.0</td> \n",
       "        <td id=\"T_aba3ed59_8274_11e8_bf92_72000296bf70row3_col4\" class=\"data row3 col4\" >0.017</td> \n",
       "        <td id=\"T_aba3ed59_8274_11e8_bf92_72000296bf70row3_col5\" class=\"data row3 col5\" >0.25</td> \n",
       "        <td id=\"T_aba3ed59_8274_11e8_bf92_72000296bf70row3_col6\" class=\"data row3 col6\" >-0.016</td> \n",
       "        <td id=\"T_aba3ed59_8274_11e8_bf92_72000296bf70row3_col7\" class=\"data row3 col7\" >-0.0056</td> \n",
       "    </tr>    <tr> \n",
       "        <th id=\"T_aba3ed59_8274_11e8_bf92_72000296bf70level0_row4\" class=\"row_heading level0 row4\" >SecuritiesAccount</th> \n",
       "        <td id=\"T_aba3ed59_8274_11e8_bf92_72000296bf70row4_col0\" class=\"data row4 col0\" >0.0017</td> \n",
       "        <td id=\"T_aba3ed59_8274_11e8_bf92_72000296bf70row4_col1\" class=\"data row4 col1\" >0.02</td> \n",
       "        <td id=\"T_aba3ed59_8274_11e8_bf92_72000296bf70row4_col2\" class=\"data row4 col2\" >-0.016</td> \n",
       "        <td id=\"T_aba3ed59_8274_11e8_bf92_72000296bf70row4_col3\" class=\"data row4 col3\" >0.017</td> \n",
       "        <td id=\"T_aba3ed59_8274_11e8_bf92_72000296bf70row4_col4\" class=\"data row4 col4\" >1.0</td> \n",
       "        <td id=\"T_aba3ed59_8274_11e8_bf92_72000296bf70row4_col5\" class=\"data row4 col5\" >0.32</td> \n",
       "        <td id=\"T_aba3ed59_8274_11e8_bf92_72000296bf70row4_col6\" class=\"data row4 col6\" >0.0051</td> \n",
       "        <td id=\"T_aba3ed59_8274_11e8_bf92_72000296bf70row4_col7\" class=\"data row4 col7\" >-0.019</td> \n",
       "    </tr>    <tr> \n",
       "        <th id=\"T_aba3ed59_8274_11e8_bf92_72000296bf70level0_row5\" class=\"row_heading level0 row5\" >CDAccount</th> \n",
       "        <td id=\"T_aba3ed59_8274_11e8_bf92_72000296bf70row5_col0\" class=\"data row5 col0\" >0.11</td> \n",
       "        <td id=\"T_aba3ed59_8274_11e8_bf92_72000296bf70row5_col1\" class=\"data row5 col1\" >0.083</td> \n",
       "        <td id=\"T_aba3ed59_8274_11e8_bf92_72000296bf70row5_col2\" class=\"data row5 col2\" >-0.0065</td> \n",
       "        <td id=\"T_aba3ed59_8274_11e8_bf92_72000296bf70row5_col3\" class=\"data row5 col3\" >0.25</td> \n",
       "        <td id=\"T_aba3ed59_8274_11e8_bf92_72000296bf70row5_col4\" class=\"data row5 col4\" >0.32</td> \n",
       "        <td id=\"T_aba3ed59_8274_11e8_bf92_72000296bf70row5_col5\" class=\"data row5 col5\" >1.0</td> \n",
       "        <td id=\"T_aba3ed59_8274_11e8_bf92_72000296bf70row5_col6\" class=\"data row5 col6\" >0.16</td> \n",
       "        <td id=\"T_aba3ed59_8274_11e8_bf92_72000296bf70row5_col7\" class=\"data row5 col7\" >0.26</td> \n",
       "    </tr>    <tr> \n",
       "        <th id=\"T_aba3ed59_8274_11e8_bf92_72000296bf70level0_row6\" class=\"row_heading level0 row6\" >NetBanking</th> \n",
       "        <td id=\"T_aba3ed59_8274_11e8_bf92_72000296bf70row6_col0\" class=\"data row6 col0\" >0.0042</td> \n",
       "        <td id=\"T_aba3ed59_8274_11e8_bf92_72000296bf70row6_col1\" class=\"data row6 col1\" >-0.021</td> \n",
       "        <td id=\"T_aba3ed59_8274_11e8_bf92_72000296bf70row6_col2\" class=\"data row6 col2\" >-0.024</td> \n",
       "        <td id=\"T_aba3ed59_8274_11e8_bf92_72000296bf70row6_col3\" class=\"data row6 col3\" >-0.016</td> \n",
       "        <td id=\"T_aba3ed59_8274_11e8_bf92_72000296bf70row6_col4\" class=\"data row6 col4\" >0.0051</td> \n",
       "        <td id=\"T_aba3ed59_8274_11e8_bf92_72000296bf70row6_col5\" class=\"data row6 col5\" >0.16</td> \n",
       "        <td id=\"T_aba3ed59_8274_11e8_bf92_72000296bf70row6_col6\" class=\"data row6 col6\" >1.0</td> \n",
       "        <td id=\"T_aba3ed59_8274_11e8_bf92_72000296bf70row6_col7\" class=\"data row6 col7\" >-0.0011</td> \n",
       "    </tr>    <tr> \n",
       "        <th id=\"T_aba3ed59_8274_11e8_bf92_72000296bf70level0_row7\" class=\"row_heading level0 row7\" >CreditCard</th> \n",
       "        <td id=\"T_aba3ed59_8274_11e8_bf92_72000296bf70row7_col0\" class=\"data row7 col0\" >0.0042</td> \n",
       "        <td id=\"T_aba3ed59_8274_11e8_bf92_72000296bf70row7_col1\" class=\"data row7 col1\" >-0.0021</td> \n",
       "        <td id=\"T_aba3ed59_8274_11e8_bf92_72000296bf70row7_col2\" class=\"data row7 col2\" >-0.017</td> \n",
       "        <td id=\"T_aba3ed59_8274_11e8_bf92_72000296bf70row7_col3\" class=\"data row7 col3\" >-0.0056</td> \n",
       "        <td id=\"T_aba3ed59_8274_11e8_bf92_72000296bf70row7_col4\" class=\"data row7 col4\" >-0.019</td> \n",
       "        <td id=\"T_aba3ed59_8274_11e8_bf92_72000296bf70row7_col5\" class=\"data row7 col5\" >0.26</td> \n",
       "        <td id=\"T_aba3ed59_8274_11e8_bf92_72000296bf70row7_col6\" class=\"data row7 col6\" >-0.0011</td> \n",
       "        <td id=\"T_aba3ed59_8274_11e8_bf92_72000296bf70row7_col7\" class=\"data row7 col7\" >1.0</td> \n",
       "    </tr></tbody> \n",
       "</table> "
      ],
      "text/plain": [
       "<pandas.io.formats.style.Styler at 0x1a75eb7550>"
      ]
     },
     "execution_count": 758,
     "metadata": {},
     "output_type": "execute_result"
    }
   ],
   "source": [
    "# Drop the variables whose correlation is between -0.1 to +0.1, as these variables will not impact prediction of\n",
    "# Personal Loan\n",
    "bpl_corr = bpl_nout.corr()['PersonalLoan'].drop(index=['PersonalLoan','Education','SecuritiesAccount',\n",
    "                                                       'CDAccount','NetBanking','CreditCard'])\n",
    "bpl_corr = bpl_nout.drop(columns=bpl_corr[(bpl_corr > -0.1) & (bpl_corr < 0.1)].index.values)\n",
    "bpl_corr.corr(method='pearson').style.format(\"{:.2}\").background_gradient(cmap=plt.get_cmap('coolwarm'), axis=1)"
   ]
  },
  {
   "cell_type": "markdown",
   "metadata": {},
   "source": [
    "### Observations\n",
    "\n",
    "*It's very clear that our manual finding matches with the data after removing the low correlated values*"
   ]
  },
  {
   "cell_type": "markdown",
   "metadata": {},
   "source": [
    "## Understand the Variances of the attributes and remove variables with low variances"
   ]
  },
  {
   "cell_type": "code",
   "execution_count": 759,
   "metadata": {},
   "outputs": [
    {
     "data": {
      "text/plain": [
       "Income               1.445874e+03\n",
       "ZIPCode              4.702058e+06\n",
       "CCAvg                1.339886e+00\n",
       "Education            6.984011e-01\n",
       "PersonalLoan         5.823377e-02\n",
       "SecuritiesAccount    9.349470e-02\n",
       "CDAccount            4.486176e-02\n",
       "NetBanking           2.412365e-01\n",
       "CreditCard           2.082635e-01\n",
       "dtype: float64"
      ]
     },
     "execution_count": 759,
     "metadata": {},
     "output_type": "execute_result"
    }
   ],
   "source": [
    "bpl_corr.var()"
   ]
  },
  {
   "cell_type": "code",
   "execution_count": 760,
   "metadata": {},
   "outputs": [
    {
     "data": {
      "text/plain": [
       "Income               False\n",
       "ZIPCode              False\n",
       "CCAvg                False\n",
       "Education            False\n",
       "PersonalLoan          True\n",
       "SecuritiesAccount     True\n",
       "CDAccount             True\n",
       "NetBanking           False\n",
       "CreditCard           False\n",
       "dtype: bool"
      ]
     },
     "execution_count": 760,
     "metadata": {},
     "output_type": "execute_result"
    }
   ],
   "source": [
    "bpl_corr.var() < 0.1"
   ]
  },
  {
   "cell_type": "code",
   "execution_count": 761,
   "metadata": {},
   "outputs": [],
   "source": [
    "# Drop SecuritiesAccount, CDAccount\n",
    "bpl_corr = bpl_corr.drop(['SecuritiesAccount','CDAccount'],axis=1)"
   ]
  },
  {
   "cell_type": "markdown",
   "metadata": {},
   "source": [
    "### Observations\n",
    "\n",
    "*No continuous variables has low variance, hence nothing to remove*  \n",
    "*SecuritiesAccount, CDAccount Categorical value is having low variance, hence removed it*"
   ]
  },
  {
   "cell_type": "markdown",
   "metadata": {},
   "source": [
    "## Split the dependant and independant variables, Check the Distribution"
   ]
  },
  {
   "cell_type": "code",
   "execution_count": 762,
   "metadata": {},
   "outputs": [
    {
     "data": {
      "text/plain": [
       "<seaborn.axisgrid.PairGrid at 0x1a75ae4f10>"
      ]
     },
     "execution_count": 762,
     "metadata": {},
     "output_type": "execute_result"
    },
    {
     "data": {
      "image/png": "[encoded data removed]",
      "text/plain": [
       "<matplotlib.figure.Figure at 0x1a76007f50>"
      ]
     },
     "metadata": {},
     "output_type": "display_data"
    }
   ],
   "source": [
    "# Lets split dependant & indepenadant variables\n",
    "dv = bpl_corr['PersonalLoan']\n",
    "iv = bpl_corr.drop('PersonalLoan',axis=1)\n",
    "\n",
    "# Scatter Plot of Independant Variables\n",
    "sns.pairplot(iv, diag_kind='kde')"
   ]
  },
  {
   "cell_type": "markdown",
   "metadata": {},
   "source": [
    "### Observations\n",
    "\n",
    "The continuous variables Income & CCAvg distribution is not normal, hence lets normalize it  \n",
    "The ZIPCode doesn't have any relation, hence drop the ZIPCode"
   ]
  },
  {
   "cell_type": "markdown",
   "metadata": {},
   "source": [
    "## Model the data using Logistic Regression and KNN"
   ]
  },
  {
   "cell_type": "markdown",
   "metadata": {},
   "source": [
    "### Model without Normalizaing the distribution"
   ]
  },
  {
   "cell_type": "code",
   "execution_count": 763,
   "metadata": {},
   "outputs": [
    {
     "data": {
      "text/plain": [
       "(3518, 6)"
      ]
     },
     "execution_count": 763,
     "metadata": {},
     "output_type": "execute_result"
    }
   ],
   "source": [
    "# Use the data where consumers accepted Personal Loan for training Logistic Regression\n",
    "# It's important to ensure that the train/test data has equal proportion of consumers who accepted personal Loan\n",
    "iv_train,iv_test,dv_train,dv_test=train_test_split(iv, dv, train_size=0.8, random_state=1,stratify=y)\n",
    "iv_train.shape"
   ]
  },
  {
   "cell_type": "code",
   "execution_count": 764,
   "metadata": {},
   "outputs": [
    {
     "name": "stdout",
     "output_type": "stream",
     "text": [
      "Distribution Percentage of previous campaign data\n",
      "0    0.800000\n",
      "1    0.798535\n",
      "Name: PersonalLoan, dtype: float64\n"
     ]
    }
   ],
   "source": [
    "# As we need to use the previous campaign's customer behavior, let's ensure the split of accepted personal loan's \n",
    "# is evenly distributed between train & test set\n",
    "print(\"Distribution Percentage of previous campaign data\\n{}\".format((dv_train.value_counts()/dv.value_counts())))"
   ]
  },
  {
   "cell_type": "code",
   "execution_count": 765,
   "metadata": {},
   "outputs": [
    {
     "name": "stdout",
     "output_type": "stream",
     "text": [
      "0.9400227401932917\n",
      "[[3255   45]\n",
      " [ 166   52]]\n",
      "Train Set: Accuracy Score = 0.940022740193, F1 Score = 0.330158730159\n",
      "\n",
      "\n",
      "0.9386363636363636\n",
      "[[810  15]\n",
      " [ 39  16]]\n",
      "Test Set: Accuracy Score = 0.938636363636, F1 Score = 0.372093023256\n"
     ]
    }
   ],
   "source": [
    "model = LogisticRegression()\n",
    "model.fit(iv_train, dv_train)\n",
    "\n",
    "# Train Set Scores\n",
    "dv_predict = model.predict(iv_train)\n",
    "model_score = model.score(iv_train, dv_train)\n",
    "print(model_score)\n",
    "print(confusion_matrix(dv_train, dv_predict))\n",
    "print(\"Train Set: Accuracy Score = {}, F1 Score = {}\\n\\n\".format(accuracy_score(dv_train,dv_predict),\n",
    "                                                                 f1_score(dv_train,dv_predict)))\n",
    "\n",
    "# Test Set Scores\n",
    "dv_predict = model.predict(iv_test)\n",
    "model_score = model.score(iv_test, dv_test)\n",
    "print(model_score)\n",
    "print(confusion_matrix(dv_test, dv_predict))\n",
    "print(\"Test Set: Accuracy Score = {}, F1 Score = {}\".format(accuracy_score(dv_test,dv_predict),\n",
    "                                                            f1_score(dv_test,dv_predict)))"
   ]
  },
  {
   "cell_type": "markdown",
   "metadata": {},
   "source": [
    "### Observations\n",
    "\n",
    "1. We get Accurancy of 94% only & Low F1 Score"
   ]
  },
  {
   "cell_type": "markdown",
   "metadata": {},
   "source": [
    "### Model the same with KNN"
   ]
  },
  {
   "cell_type": "code",
   "execution_count": 766,
   "metadata": {},
   "outputs": [
    {
     "data": {
      "text/plain": [
       "[0.9164246632996633,\n",
       " 0.9283661939911939,\n",
       " 0.9374643874643874,\n",
       " 0.9368962056462056,\n",
       " 0.9394546425796427,\n",
       " 0.9368970150220151,\n",
       " 0.9368970150220151,\n",
       " 0.9360439329189327,\n",
       " 0.9380333786583787,\n",
       " 0.9391705516705517,\n",
       " 0.938034188034188,\n",
       " 0.9383182789432789,\n",
       " 0.9383182789432789,\n",
       " 0.938034188034188,\n",
       " 0.9386031792281792,\n",
       " 0.9380349974099973,\n",
       " 0.938034188034188,\n",
       " 0.937750097125097,\n",
       " 0.937750097125097,\n",
       " 0.937750097125097]"
      ]
     },
     "execution_count": 766,
     "metadata": {},
     "output_type": "execute_result"
    }
   ],
   "source": [
    "# Lets try with KNN Model\n",
    "kList = [1, 3, 5, 7, 9, 11, 13, 15, 17, 19, 21, 23, 25, 27, 31, 33, 35, 37, 39, 41]\n",
    "scores = []\n",
    "# Perform Cross Validation\n",
    "for k in kList:\n",
    "    knn = KNeighborsClassifier(n_neighbors=k)\n",
    "    scores.append(cross_val_score(knn, iv_train, dv_train, cv=10, scoring='accuracy').mean())\n",
    "scores"
   ]
  },
  {
   "cell_type": "code",
   "execution_count": 767,
   "metadata": {},
   "outputs": [
    {
     "data": {
      "image/png": "[encoded data removed]",
      "text/plain": [
       "<matplotlib.figure.Figure at 0x1a7706d110>"
      ]
     },
     "metadata": {},
     "output_type": "display_data"
    }
   ],
   "source": [
    "scores_err = [1 - x for x in scores]\n",
    "# plot misclassification error vs k\n",
    "plt.plot(kList, scores_err)\n",
    "plt.xlabel('Number of Neighbors k')\n",
    "plt.ylabel('Misclassification Error')\n",
    "plt.show()"
   ]
  },
  {
   "cell_type": "markdown",
   "metadata": {},
   "source": [
    "### Observations\n",
    "\n",
    "The accuracy of KNN is almost same as Logistic Regression ~ 94% with Optimal Neighbours as 9"
   ]
  },
  {
   "cell_type": "markdown",
   "metadata": {},
   "source": [
    "### Model by removing ZIPCode but not normalizing the distribution"
   ]
  },
  {
   "cell_type": "markdown",
   "metadata": {},
   "source": [
    "### Logistic Regression"
   ]
  },
  {
   "cell_type": "code",
   "execution_count": 768,
   "metadata": {},
   "outputs": [],
   "source": [
    "iv = bpl_corr.drop(['PersonalLoan','ZIPCode'],axis=1)"
   ]
  },
  {
   "cell_type": "code",
   "execution_count": 769,
   "metadata": {},
   "outputs": [
    {
     "name": "stdout",
     "output_type": "stream",
     "text": [
      "0.9610574189880614\n",
      "[[3281   19]\n",
      " [ 118  100]]\n",
      "Train Set: Accuracy Score = 0.961057418988, F1 Score = 0.593471810089\n",
      "\n",
      "\n",
      "0.9568181818181818\n",
      "[[818   7]\n",
      " [ 31  24]]\n",
      "Test Set: Accuracy Score = 0.956818181818, F1 Score = 0.558139534884\n"
     ]
    }
   ],
   "source": [
    "iv_train,iv_test,dv_train,dv_test=train_test_split(iv, dv, train_size=0.8, random_state=1,stratify=dv)\n",
    "model = LogisticRegression()\n",
    "model.fit(iv_train, dv_train)\n",
    "\n",
    "# Train Set Scores\n",
    "dv_predict = model.predict(iv_train)\n",
    "model_score = model.score(iv_train, dv_train)\n",
    "print(model_score)\n",
    "print(confusion_matrix(dv_train, dv_predict))\n",
    "print(\"Train Set: Accuracy Score = {}, F1 Score = {}\\n\\n\".format(accuracy_score(dv_train,dv_predict),\n",
    "                                                                 f1_score(dv_train,dv_predict)))\n",
    "\n",
    "# Test Set Scores\n",
    "dv_predict = model.predict(iv_test)\n",
    "model_score = model.score(iv_test, dv_test)\n",
    "print(model_score)\n",
    "print(confusion_matrix(dv_test, dv_predict))\n",
    "print(\"Test Set: Accuracy Score = {}, F1 Score = {}\".format(accuracy_score(dv_test,dv_predict),\n",
    "                                                            f1_score(dv_test,dv_predict)))"
   ]
  },
  {
   "cell_type": "markdown",
   "metadata": {},
   "source": [
    "### Observations\n",
    "\n",
    "The accuracy score improved to ~96% with improved F1 score as well  \n",
    "Hence the conclusion is that removing ZIPCode is not helping in prediction of PersonalLoan instead it skews the data"
   ]
  },
  {
   "cell_type": "markdown",
   "metadata": {},
   "source": [
    "### KNN Model"
   ]
  },
  {
   "cell_type": "code",
   "execution_count": 770,
   "metadata": {},
   "outputs": [
    {
     "data": {
      "text/plain": [
       "[0.9559456746956748,\n",
       " 0.9585000647500648,\n",
       " 0.9593507187257189,\n",
       " 0.9576461732711733,\n",
       " 0.9556567275317274,\n",
       " 0.9545187451437451,\n",
       " 0.9522452084952086,\n",
       " 0.9505406630406629,\n",
       " 0.9482679357679358,\n",
       " 0.9462776806526808,\n",
       " 0.9457086894586896,\n",
       " 0.9448564167314167,\n",
       " 0.9440041440041439,\n",
       " 0.944004144004144,\n",
       " 0.9428653522403522,\n",
       " 0.943433534058534,\n",
       " 0.9434343434343434,\n",
       " 0.9431502525252526,\n",
       " 0.9425820707070708,\n",
       " 0.9434343434343434]"
      ]
     },
     "execution_count": 770,
     "metadata": {},
     "output_type": "execute_result"
    }
   ],
   "source": [
    "# Lets try with KNN Model\n",
    "kList = [1, 3, 5, 7, 9, 11, 13, 15, 17, 19, 21, 23, 25, 27, 31, 33, 35, 37, 39, 41]\n",
    "scores = []\n",
    "# Perform Cross Validation\n",
    "for k in kList:\n",
    "    knn = KNeighborsClassifier(n_neighbors=k)\n",
    "    scores.append(cross_val_score(knn, iv_train, dv_train, cv=10, scoring='accuracy').mean())\n",
    "scores"
   ]
  },
  {
   "cell_type": "code",
   "execution_count": 771,
   "metadata": {},
   "outputs": [
    {
     "data": {
      "image/png": "[encoded data removed]",
      "text/plain": [
       "<matplotlib.figure.Figure at 0x1a775673d0>"
      ]
     },
     "metadata": {},
     "output_type": "display_data"
    }
   ],
   "source": [
    "scores_err = [1 - x for x in scores]\n",
    "# plot misclassification error vs k\n",
    "plt.plot(kList, scores_err)\n",
    "plt.xlabel('Number of Neighbors k')\n",
    "plt.ylabel('Misclassification Error')\n",
    "plt.show()"
   ]
  },
  {
   "cell_type": "markdown",
   "metadata": {},
   "source": [
    "###### Observations\n",
    "\n",
    "The KNN Model accuracy is minimally improved to 96% and Optimal Neighbours is 5  \n",
    "Removing ZIPCode really impacted KNN Model accuracy"
   ]
  },
  {
   "cell_type": "markdown",
   "metadata": {},
   "source": [
    "## Normalize the Distribution and Rerun the Models"
   ]
  },
  {
   "cell_type": "code",
   "execution_count": 772,
   "metadata": {},
   "outputs": [
    {
     "data": {
      "text/plain": [
       "(array([672., 947., 770., 611., 648., 259., 187., 143.,  80.,  81.]),\n",
       " array([  8. ,  25.7,  43.4,  61.1,  78.8,  96.5, 114.2, 131.9, 149.6,\n",
       "        167.3, 185. ]),\n",
       " <a list of 10 Patch objects>)"
      ]
     },
     "execution_count": 772,
     "metadata": {},
     "output_type": "execute_result"
    },
    {
     "data": {
      "image/png": "[encoded data removed]",
      "text/plain": [
       "<matplotlib.figure.Figure at 0x1a77a7b2d0>"
      ]
     },
     "metadata": {},
     "output_type": "display_data"
    }
   ],
   "source": [
    "# Reset Independant Variable back to Original Values\n",
    "iv = bpl_corr.drop(['PersonalLoan','ZIPCode'],axis=1)\n",
    "plt.hist(iv['Income'])"
   ]
  },
  {
   "cell_type": "code",
   "execution_count": 773,
   "metadata": {},
   "outputs": [
    {
     "data": {
      "text/plain": [
       "(array([1039.,  812.,  569.,  700.,  481.,  370.,  135.,  130.,   81.,\n",
       "          81.]),\n",
       " array([0.        , 0.51999998, 1.03999996, 1.55999994, 2.07999992,\n",
       "        2.5999999 , 3.11999989, 3.63999987, 4.15999985, 4.67999983,\n",
       "        5.19999981]),\n",
       " <a list of 10 Patch objects>)"
      ]
     },
     "execution_count": 773,
     "metadata": {},
     "output_type": "execute_result"
    },
    {
     "data": {
      "image/png": "[encoded data removed]",
      "text/plain": [
       "<matplotlib.figure.Figure at 0x1a77d626d0>"
      ]
     },
     "metadata": {},
     "output_type": "display_data"
    }
   ],
   "source": [
    "plt.hist(iv['CCAvg'])"
   ]
  },
  {
   "cell_type": "code",
   "execution_count": 774,
   "metadata": {},
   "outputs": [],
   "source": [
    "# Use Z-Score to transform\n",
    "iv['Income'] = (iv['Income']-iv['Income'].mean())/iv['Income'].std()\n",
    "iv['CCAvg'] = (iv['CCAvg']-iv['CCAvg'].mean())/iv['CCAvg'].std()"
   ]
  },
  {
   "cell_type": "code",
   "execution_count": 775,
   "metadata": {},
   "outputs": [
    {
     "data": {
      "text/plain": [
       "(array([672., 947., 770., 611., 648., 259., 187., 143.,  80.,  81.]),\n",
       " array([-1.4749535 , -1.00946592, -0.54397835, -0.07849078,  0.3869968 ,\n",
       "         0.85248437,  1.31797195,  1.78345952,  2.24894709,  2.71443467,\n",
       "         3.17992224]),\n",
       " <a list of 10 Patch objects>)"
      ]
     },
     "execution_count": 775,
     "metadata": {},
     "output_type": "execute_result"
    },
    {
     "data": {
      "image/png": "[encoded data removed]",
      "text/plain": [
       "<matplotlib.figure.Figure at 0x1a77e67990>"
      ]
     },
     "metadata": {},
     "output_type": "display_data"
    }
   ],
   "source": [
    "plt.hist(iv['Income'])"
   ]
  },
  {
   "cell_type": "code",
   "execution_count": 776,
   "metadata": {},
   "outputs": [
    {
     "data": {
      "text/plain": [
       "(array([1039.,  812.,  569.,  700.,  481.,  370.,  135.,  130.,   81.,\n",
       "          81.]),\n",
       " array([-1.34003508, -0.89080614, -0.4415772 ,  0.00765175,  0.45688069,\n",
       "         0.90610963,  1.35533857,  1.80456752,  2.25379646,  2.7030254 ,\n",
       "         3.15225434]),\n",
       " <a list of 10 Patch objects>)"
      ]
     },
     "execution_count": 776,
     "metadata": {},
     "output_type": "execute_result"
    },
    {
     "data": {
      "image/png": "[encoded data removed]",
      "text/plain": [
       "<matplotlib.figure.Figure at 0x1a77e7de10>"
      ]
     },
     "metadata": {},
     "output_type": "display_data"
    }
   ],
   "source": [
    "plt.hist(iv['CCAvg'])"
   ]
  },
  {
   "cell_type": "markdown",
   "metadata": {},
   "source": [
    "### Logistic Regression"
   ]
  },
  {
   "cell_type": "code",
   "execution_count": 777,
   "metadata": {},
   "outputs": [
    {
     "name": "stdout",
     "output_type": "stream",
     "text": [
      "0.9627629334849346\n",
      "[[3277   23]\n",
      " [ 108  110]]\n",
      "Train Set: Accuracy Score = 0.962762933485, F1 Score = 0.626780626781\n",
      "\n",
      "\n",
      "0.9568181818181818\n",
      "[[817   8]\n",
      " [ 30  25]]\n",
      "Test Set: Accuracy Score = 0.956818181818, F1 Score = 0.568181818182\n"
     ]
    }
   ],
   "source": [
    "iv_train,iv_test,dv_train,dv_test=train_test_split(iv, dv, train_size=0.8, random_state=1,stratify=dv)\n",
    "model = LogisticRegression()\n",
    "model.fit(iv_train, dv_train)\n",
    "\n",
    "# Train Set Scores\n",
    "dv_predict = model.predict(iv_train)\n",
    "model_score = model.score(iv_train, dv_train)\n",
    "print(model_score)\n",
    "print(confusion_matrix(dv_train, dv_predict))\n",
    "print(\"Train Set: Accuracy Score = {}, F1 Score = {}\\n\\n\".format(accuracy_score(dv_train,dv_predict),\n",
    "                                                                 f1_score(dv_train,dv_predict)))\n",
    "\n",
    "# Test Set Scores\n",
    "dv_predict = model.predict(iv_test)\n",
    "model_score = model.score(iv_test, dv_test)\n",
    "print(model_score)\n",
    "print(confusion_matrix(dv_test, dv_predict))\n",
    "print(\"Test Set: Accuracy Score = {}, F1 Score = {}\".format(accuracy_score(dv_test,dv_predict),\n",
    "                                                            f1_score(dv_test,dv_predict)))"
   ]
  },
  {
   "cell_type": "markdown",
   "metadata": {},
   "source": [
    "### Observations\n",
    "\n",
    "No big change in Accuracy after using zscore. \n",
    "Accuracy is 96.3%"
   ]
  },
  {
   "cell_type": "markdown",
   "metadata": {},
   "source": [
    "### KNN Model"
   ]
  },
  {
   "cell_type": "code",
   "execution_count": 778,
   "metadata": {},
   "outputs": [
    {
     "data": {
      "text/plain": [
       "[0.9656023374773375,\n",
       " 0.9698709854959855,\n",
       " 0.9712914400414402,\n",
       " 0.9701534576534575,\n",
       " 0.9701542670292669,\n",
       " 0.9695844664594665,\n",
       " 0.9693003755503755,\n",
       " 0.9678791116291116,\n",
       " 0.9667419386169387,\n",
       " 0.9678791116291116,\n",
       " 0.966742747992748,\n",
       " 0.96759583009583,\n",
       " 0.9678799210049209,\n",
       " 0.9667435573685573,\n",
       " 0.9658912846412845]"
      ]
     },
     "execution_count": 778,
     "metadata": {},
     "output_type": "execute_result"
    }
   ],
   "source": [
    "# Lets try with KNN Model\n",
    "kList = [1, 3, 5, 7, 9, 11, 13, 15, 17, 19, 21, 23, 25, 27, 31]\n",
    "scores = []\n",
    "# Perform Cross Validation\n",
    "for k in kList:\n",
    "    knn = KNeighborsClassifier(n_neighbors=k)\n",
    "    scores.append(cross_val_score(knn, iv_train, dv_train, cv=10, scoring='accuracy').mean())\n",
    "scores"
   ]
  },
  {
   "cell_type": "code",
   "execution_count": 779,
   "metadata": {},
   "outputs": [
    {
     "data": {
      "image/png": "[encoded data removed]",
      "text/plain": [
       "<matplotlib.figure.Figure at 0x1a77e0b590>"
      ]
     },
     "metadata": {},
     "output_type": "display_data"
    }
   ],
   "source": [
    "scores_err = [1 - x for x in scores]\n",
    "# plot misclassification error vs k\n",
    "plt.plot(kList, scores_err)\n",
    "plt.xlabel('Number of Neighbors k')\n",
    "plt.ylabel('Misclassification Error')\n",
    "plt.show()"
   ]
  },
  {
   "cell_type": "markdown",
   "metadata": {},
   "source": [
    "### Observations:\n",
    "\n",
    "Optimal Neighbour = 7  \n",
    "Accuracy: 97%\n",
    "\n",
    "KNN Yield better accuracy rate with z-score based distribution  \n",
    "With Optimial Neighbour of 5, the misclassification error is at the lowest"
   ]
  },
  {
   "cell_type": "markdown",
   "metadata": {},
   "source": [
    "## Other Distribution Models (BoxCox, ...)"
   ]
  },
  {
   "cell_type": "markdown",
   "metadata": {},
   "source": [
    "### BoxCox"
   ]
  },
  {
   "cell_type": "code",
   "execution_count": 780,
   "metadata": {},
   "outputs": [
    {
     "data": {
      "text/plain": [
       "(array([672., 640., 557., 358., 377., 337., 485., 222., 259., 491.]),\n",
       " array([0.07011252, 0.16302761, 0.2559427 , 0.34885779, 0.44177288,\n",
       "        0.53468798, 0.62760307, 0.72051816, 0.81343325, 0.90634834,\n",
       "        0.99926343]),\n",
       " <a list of 10 Patch objects>)"
      ]
     },
     "execution_count": 780,
     "metadata": {},
     "output_type": "execute_result"
    },
    {
     "data": {
      "image/png": "[encoded data removed]",
      "text/plain": [
       "<matplotlib.figure.Figure at 0x1a7805d910>"
      ]
     },
     "metadata": {},
     "output_type": "display_data"
    }
   ],
   "source": [
    "# Reset Independant Variable back to Original Values\n",
    "iv = bpl_corr.drop(['PersonalLoan','ZIPCode'],axis=1)\n",
    "\n",
    "# Transform income using boxcox\n",
    "# We can't use boxcox with CCAvg as it has zero values\n",
    "iv['Income'] = stats.boxcox(iv['Income'],0)\n",
    "plt.hist(no_corr['Income'])"
   ]
  },
  {
   "cell_type": "code",
   "execution_count": 781,
   "metadata": {},
   "outputs": [
    {
     "name": "stdout",
     "output_type": "stream",
     "text": [
      "0.9491188175099489\n",
      "[[3298    2]\n",
      " [ 177   41]]\n",
      "Train Set: Accuracy Score = 0.94911881751, F1 Score = 0.314176245211\n",
      "\n",
      "\n",
      "0.9488636363636364\n",
      "[[825   0]\n",
      " [ 45  10]]\n",
      "Test Set: Accuracy Score = 0.948863636364, F1 Score = 0.307692307692\n"
     ]
    }
   ],
   "source": [
    "iv_train,iv_test,dv_train,dv_test=train_test_split(iv, dv, train_size=0.8, random_state=1,stratify=dv)\n",
    "model = LogisticRegression()\n",
    "model.fit(iv_train, dv_train)\n",
    "\n",
    "# Train Set Scores\n",
    "dv_predict = model.predict(iv_train)\n",
    "model_score = model.score(iv_train, dv_train)\n",
    "print(model_score)\n",
    "print(confusion_matrix(dv_train, dv_predict))\n",
    "print(\"Train Set: Accuracy Score = {}, F1 Score = {}\\n\\n\".format(accuracy_score(dv_train,dv_predict),\n",
    "                                                                 f1_score(dv_train,dv_predict)))\n",
    "\n",
    "# Test Set Scores\n",
    "dv_predict = model.predict(iv_test)\n",
    "model_score = model.score(iv_test, dv_test)\n",
    "print(model_score)\n",
    "print(confusion_matrix(dv_test, dv_predict))\n",
    "print(\"Test Set: Accuracy Score = {}, F1 Score = {}\".format(accuracy_score(dv_test,dv_predict),\n",
    "                                                            f1_score(dv_test,dv_predict)))"
   ]
  },
  {
   "cell_type": "markdown",
   "metadata": {},
   "source": [
    "### KNN Model"
   ]
  },
  {
   "cell_type": "code",
   "execution_count": 782,
   "metadata": {},
   "outputs": [
    {
     "data": {
      "text/plain": [
       "[0.9661737567987568,\n",
       " 0.9667435573685573,\n",
       " 0.9630479474229474,\n",
       " 0.9576510295260295,\n",
       " 0.9590706746956748,\n",
       " 0.9579343110593109,\n",
       " 0.9570796102046101,\n",
       " 0.9559424371924372,\n",
       " 0.9562289562289562,\n",
       " 0.9550925925925926,\n",
       " 0.9553766835016834,\n",
       " 0.9553758741258742,\n",
       " 0.955659965034965,\n",
       " 0.9525341556591558,\n",
       " 0.9525333462833464]"
      ]
     },
     "execution_count": 782,
     "metadata": {},
     "output_type": "execute_result"
    }
   ],
   "source": [
    "# Lets try with KNN Model\n",
    "kList = [1, 3, 5, 7, 9, 11, 13, 15, 17, 19, 21, 23, 25, 27, 31]\n",
    "scores = []\n",
    "# Perform Cross Validation\n",
    "for k in kList:\n",
    "    knn = KNeighborsClassifier(n_neighbors=k)\n",
    "    scores.append(cross_val_score(knn, iv_train, dv_train, cv=10, scoring='accuracy').mean())\n",
    "scores"
   ]
  },
  {
   "cell_type": "code",
   "execution_count": 783,
   "metadata": {},
   "outputs": [
    {
     "data": {
      "image/png": "[encoded data removed]",
      "text/plain": [
       "<matplotlib.figure.Figure at 0x1a77d6b1d0>"
      ]
     },
     "metadata": {},
     "output_type": "display_data"
    }
   ],
   "source": [
    "scores_err = [1 - x for x in scores]\n",
    "# plot misclassification error vs k\n",
    "plt.plot(kList, scores_err)\n",
    "plt.xlabel('Number of Neighbors k')\n",
    "plt.ylabel('Misclassification Error')\n",
    "plt.show()"
   ]
  },
  {
   "cell_type": "markdown",
   "metadata": {},
   "source": [
    "### Observations\n",
    "Logistic Regression Yielded Poor Accuracy with 94.9%\n",
    "KNN Yielded better accuracy with 96.7 & Optimal Neighbour of 3"
   ]
  },
  {
   "cell_type": "markdown",
   "metadata": {},
   "source": [
    "### p-Value based"
   ]
  },
  {
   "cell_type": "code",
   "execution_count": 784,
   "metadata": {},
   "outputs": [],
   "source": [
    "# Reset Independant Variable back to Original Values\n",
    "iv = bpl_corr.drop(['PersonalLoan','ZIPCode'],axis=1)\n",
    "\n",
    "# Transform\n",
    "iv['Income'] = stats.norm.cdf(iv['Income'],iv['Income'].mean(),iv['Income'].std())\n",
    "iv['CCAvg'] = stats.norm.cdf(iv['CCAvg'],iv['CCAvg'].mean(),iv['CCAvg'].std())"
   ]
  },
  {
   "cell_type": "markdown",
   "metadata": {},
   "source": [
    "### Logistic Regression"
   ]
  },
  {
   "cell_type": "code",
   "execution_count": 785,
   "metadata": {},
   "outputs": [
    {
     "name": "stdout",
     "output_type": "stream",
     "text": [
      "0.9567936327458784\n",
      "[[3298    2]\n",
      " [ 150   68]]\n",
      "Train Set: Accuracy Score = 0.956793632746, F1 Score = 0.472222222222\n",
      "\n",
      "\n",
      "0.9534090909090909\n",
      "[[824   1]\n",
      " [ 40  15]]\n",
      "Test Set: Accuracy Score = 0.953409090909, F1 Score = 0.422535211268\n"
     ]
    }
   ],
   "source": [
    "iv_train,iv_test,dv_train,dv_test=train_test_split(iv, dv, train_size=0.8, random_state=1,stratify=dv)\n",
    "model = LogisticRegression()\n",
    "model.fit(iv_train, dv_train)\n",
    "\n",
    "# Train Set Scores\n",
    "dv_predict = model.predict(iv_train)\n",
    "model_score = model.score(iv_train, dv_train)\n",
    "print(model_score)\n",
    "print(confusion_matrix(dv_train, dv_predict))\n",
    "print(\"Train Set: Accuracy Score = {}, F1 Score = {}\\n\\n\".format(accuracy_score(dv_train,dv_predict),\n",
    "                                                                 f1_score(dv_train,dv_predict)))\n",
    "\n",
    "# Test Set Scores\n",
    "dv_predict = model.predict(iv_test)\n",
    "model_score = model.score(iv_test, dv_test)\n",
    "print(model_score)\n",
    "print(confusion_matrix(dv_test, dv_predict))\n",
    "print(\"Test Set: Accuracy Score = {}, F1 Score = {}\".format(accuracy_score(dv_test,dv_predict),\n",
    "                                                            f1_score(dv_test,dv_predict)))"
   ]
  },
  {
   "cell_type": "markdown",
   "metadata": {},
   "source": [
    "### KNN Model"
   ]
  },
  {
   "cell_type": "code",
   "execution_count": 786,
   "metadata": {},
   "outputs": [
    {
     "data": {
      "text/plain": [
       "[0.9602013727013727,\n",
       " 0.9667443667443669,\n",
       " 0.9661761849261848,\n",
       " 0.9670284576534577,\n",
       " 0.9670308857808857,\n",
       " 0.9684497215747216,\n",
       " 0.9670308857808857,\n",
       " 0.964754921004921,\n",
       " 0.9644700207200207,\n",
       " 0.9604911292411293,\n",
       " 0.9582175925925925,\n",
       " 0.95736531986532,\n",
       " 0.9573645104895105,\n",
       " 0.9579343110593111,\n",
       " 0.9570804195804197]"
      ]
     },
     "execution_count": 786,
     "metadata": {},
     "output_type": "execute_result"
    }
   ],
   "source": [
    "# Lets try with KNN Model\n",
    "kList = [1, 3, 5, 7, 9, 11, 13, 15, 17, 19, 21, 23, 25, 27, 31]\n",
    "scores = []\n",
    "# Perform Cross Validation\n",
    "for k in kList:\n",
    "    knn = KNeighborsClassifier(n_neighbors=k)\n",
    "    scores.append(cross_val_score(knn, iv_train, dv_train, cv=10, scoring='accuracy').mean())\n",
    "scores"
   ]
  },
  {
   "cell_type": "code",
   "execution_count": 787,
   "metadata": {},
   "outputs": [
    {
     "data": {
      "image/png": "[encoded data removed]",
      "text/plain": [
       "<matplotlib.figure.Figure at 0x1a782a8210>"
      ]
     },
     "metadata": {},
     "output_type": "display_data"
    }
   ],
   "source": [
    "scores_err = [1 - x for x in scores]\n",
    "# plot misclassification error vs k\n",
    "plt.plot(kList, scores_err)\n",
    "plt.xlabel('Number of Neighbors k')\n",
    "plt.ylabel('Misclassification Error')\n",
    "plt.show()"
   ]
  },
  {
   "cell_type": "markdown",
   "metadata": {},
   "source": [
    "### Observations\n",
    "With p-value based distribution also KNN Model yielded better accuracy of 96.8% with optimal neighbour of 11"
   ]
  },
  {
   "cell_type": "markdown",
   "metadata": {},
   "source": [
    "# Conclusion\n",
    "\n",
    "With Z Score & removing outliers the accuracy considerably improved  \n",
    "KNN Model gave the better accuracy & the max of 97%  \n",
    "\n",
    "The Personal Loan is dependant on Income, CreditCard Average Spending, Education, Use of InternetBanking & Holding a CreditCard  \n",
    "\n",
    "Based on the previous campaign, it's found that the consumers with the following attributes are more likely to   \n",
    "accept the personal loan:\n",
    "1. Higher income, Higher credit card spend were most likely to accept the personal loand\n",
    "2. Consumers who have Education with Advanced/Professional has higher probability\n",
    "3. Holding Credit Card and Perfom Online Banking"
   ]
  },
  {
   "cell_type": "markdown",
   "metadata": {},
   "source": [
    "# Thank You"
   ]
  },
  {
   "cell_type": "code",
   "execution_count": null,
   "metadata": {},
   "outputs": [],
   "source": []
  }
 ],
 "metadata": {
  "kernelspec": {
   "display_name": "Python 2",
   "language": "python",
   "name": "python2"
  },
  "language_info": {
   "codemirror_mode": {
    "name": "ipython",
    "version": 2
   },
   "file_extension": ".py",
   "mimetype": "text/x-python",
   "name": "python",
   "nbconvert_exporter": "python",
   "pygments_lexer": "ipython2",
   "version": "2.7.14"
  }
 },
 "nbformat": 4,
 "nbformat_minor": 2
}
